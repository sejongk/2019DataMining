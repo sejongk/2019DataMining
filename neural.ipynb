{
 "cells": [
  {
   "cell_type": "code",
   "execution_count": 2,
   "metadata": {},
   "outputs": [],
   "source": [
    "# description\n",
    "# https://www.kaggle.com/c/boston-housing\n",
    "\n",
    "# TensorFlow and tf.keras\n",
    "\n",
    "import tensorflow\n",
    "from tensorflow.keras.models import Sequential\n",
    "from tensorflow.keras.layers import Dense, Activation\n",
    "\n",
    "# Helper libraries\n",
    "import numpy as np\n",
    "import matplotlib.pyplot as plt\n",
    "\n",
    "from sklearn.preprocessing import StandardScaler\n",
    "\n"
   ]
  },
  {
   "cell_type": "code",
   "execution_count": 3,
   "metadata": {},
   "outputs": [],
   "source": [
    "import pandas as pd \n",
    "X_train = pd.read_csv('out_X.csv', delimiter = ',')\n",
    "Y_train = pd.read_csv('out_Y.csv', delimiter = ',')"
   ]
  },
  {
   "cell_type": "code",
   "execution_count": 4,
   "metadata": {},
   "outputs": [
    {
     "name": "stderr",
     "output_type": "stream",
     "text": [
      "C:\\ProgramData\\Anaconda3\\lib\\site-packages\\sklearn\\preprocessing\\data.py:625: DataConversionWarning: Data with input dtype int64, float64 were all converted to float64 by StandardScaler.\n",
      "  return self.partial_fit(X, y)\n",
      "C:\\ProgramData\\Anaconda3\\lib\\site-packages\\sklearn\\base.py:462: DataConversionWarning: Data with input dtype int64, float64 were all converted to float64 by StandardScaler.\n",
      "  return self.fit(X, **fit_params).transform(X)\n"
     ]
    }
   ],
   "source": [
    "X_train = StandardScaler().fit_transform(X_train)\n",
    "Y_train = pd.factorize(Y_train.x)[0]"
   ]
  },
  {
   "cell_type": "code",
   "execution_count": 5,
   "metadata": {},
   "outputs": [],
   "source": [
    "from sklearn.model_selection import train_test_split\n",
    "x_train, x_test, y_train, y_test = train_test_split( X_train , Y_train, test_size=0.3, random_state=42)"
   ]
  },
  {
   "cell_type": "code",
   "execution_count": 47,
   "metadata": {},
   "outputs": [],
   "source": []
  },
  {
   "cell_type": "code",
   "execution_count": 6,
   "metadata": {
    "scrolled": true
   },
   "outputs": [
    {
     "data": {
      "text/plain": [
       "((460282, 48), (460282,))"
      ]
     },
     "execution_count": 6,
     "metadata": {},
     "output_type": "execute_result"
    }
   ],
   "source": [
    "\n",
    "x_train.shape, y_train.shape\n"
   ]
  },
  {
   "cell_type": "code",
   "execution_count": 7,
   "metadata": {
    "scrolled": true
   },
   "outputs": [
    {
     "name": "stdout",
     "output_type": "stream",
     "text": [
      "WARNING:tensorflow:From C:\\ProgramData\\Anaconda3\\lib\\site-packages\\tensorflow\\python\\ops\\resource_variable_ops.py:435: colocate_with (from tensorflow.python.framework.ops) is deprecated and will be removed in a future version.\n",
      "Instructions for updating:\n",
      "Colocations handled automatically by placer.\n",
      "_________________________________________________________________\n",
      "Layer (type)                 Output Shape              Param #   \n",
      "=================================================================\n",
      "dense (Dense)                (None, 40)                1960      \n",
      "_________________________________________________________________\n",
      "dense_1 (Dense)              (None, 25)                1025      \n",
      "_________________________________________________________________\n",
      "dense_2 (Dense)              (None, 11)                286       \n",
      "=================================================================\n",
      "Total params: 3,271\n",
      "Trainable params: 3,271\n",
      "Non-trainable params: 0\n",
      "_________________________________________________________________\n"
     ]
    }
   ],
   "source": [
    "model = Sequential()\n",
    "model.add(Dense(40, input_shape=[48], activation = 'relu'))\n",
    "model.add(Dense(25, activation = 'relu'))\n",
    "model.add(Dense(11, activation='softmax'))\n",
    "model.compile(optimizer = 'adam', loss='sparse_categorical_crossentropy', metrics=['accuracy'])\n",
    "model.summary()"
   ]
  },
  {
   "cell_type": "code",
   "execution_count": 8,
   "metadata": {},
   "outputs": [
    {
     "name": "stdout",
     "output_type": "stream",
     "text": [
      "(None, 48)\n",
      "(None, 11)\n"
     ]
    },
    {
     "data": {
      "text/plain": [
       "'\\n(None, 13)\\n(None, 1)\\n\\nNone = 1?\\n1*13의 vetor가 input, 1*1의 vector가 output\\n1*(13+1) -> matrix 곱, 14*10, 결과: 1*(10+1) -> 11*1 matrix 곱, 결과:1*1\\n1은 **batch_size, 훈련 instance개수다. 100이 되면 100개의 instance를 한번에 input으로 넣을 수 있다.\\n데이터 개수에 따라 달라지므로 그냥 정해지지 않았다는 의미로 None이 들어간다.\\n'"
      ]
     },
     "execution_count": 8,
     "metadata": {},
     "output_type": "execute_result"
    }
   ],
   "source": [
    "print(model.input_shape)\n",
    "print(model.output_shape)\n",
    "'''\n",
    "(None, 13)\n",
    "(None, 1)\n",
    "\n",
    "None = 1?\n",
    "1*13의 vetor가 input, 1*1의 vector가 output\n",
    "1*(13+1) -> matrix 곱, 14*10, 결과: 1*(10+1) -> 11*1 matrix 곱, 결과:1*1\n",
    "1은 **batch_size, 훈련 instance개수다. 100이 되면 100개의 instance를 한번에 input으로 넣을 수 있다.\n",
    "데이터 개수에 따라 달라지므로 그냥 정해지지 않았다는 의미로 None이 들어간다.\n",
    "'''"
   ]
  },
  {
   "cell_type": "markdown",
   "metadata": {},
   "source": [
    "### ****None = batch_size?"
   ]
  },
  {
   "cell_type": "code",
   "execution_count": 9,
   "metadata": {
    "scrolled": true
   },
   "outputs": [
    {
     "name": "stdout",
     "output_type": "stream",
     "text": [
      "Epoch 1/3\n",
      "460282/460282 [==============================] - 36s 77us/sample - loss: 0.2662 - acc: 0.8601\n",
      "Epoch 2/3\n",
      "460282/460282 [==============================] - 34s 75us/sample - loss: 0.1536 - acc: 0.9009\n",
      "Epoch 3/3\n",
      "460282/460282 [==============================] - 34s 75us/sample - loss: 0.1368 - acc: 0.9063\n"
     ]
    },
    {
     "data": {
      "text/plain": [
       "<tensorflow.python.keras.callbacks.History at 0x24da4787470>"
      ]
     },
     "execution_count": 9,
     "metadata": {},
     "output_type": "execute_result"
    }
   ],
   "source": [
    "model.fit(x_train, y_train, epochs=3) #batch_size의 default: 32"
   ]
  },
  {
   "cell_type": "code",
   "execution_count": 10,
   "metadata": {},
   "outputs": [],
   "source": [
    "model.save('neural_sacle_out.h5')"
   ]
  },
  {
   "cell_type": "code",
   "execution_count": 12,
   "metadata": {},
   "outputs": [],
   "source": [
    "from sklearn.metrics import accuracy_score \n",
    "from sklearn.metrics import confusion_matrix\n",
    "\n",
    "from sklearn.svm import SVC\n",
    "\n",
    "svm_m = SVC(kernel='rbf', C= 10, random_state=0, gamma=0.001 )\n"
   ]
  },
  {
   "cell_type": "code",
   "execution_count": 20,
   "metadata": {},
   "outputs": [
    {
     "data": {
      "text/plain": [
       "\"from sklearn.externals import joblib \\n# pickled binary file 형태로 저장된 객체를 로딩한다 \\nfile_name = 'object_01.pkl' \\nobj = joblib.load(file_name) \\n\""
      ]
     },
     "execution_count": 20,
     "metadata": {},
     "output_type": "execute_result"
    }
   ],
   "source": [
    "from sklearn.externals import joblib \n",
    "file_name = 'svm_1.pkl' \n",
    "joblib.dump(svm_m, file_name) \n",
    "\n",
    "'''from sklearn.externals import joblib \n",
    "# pickled binary file 형태로 저장된 객체를 로딩한다 \n",
    "file_name = 'object_01.pkl' \n",
    "obj = joblib.load(file_name) \n",
    "'''\n",
    "\n"
   ]
  },
  {
   "cell_type": "code",
   "execution_count": 21,
   "metadata": {
    "scrolled": true
   },
   "outputs": [
    {
     "name": "stdout",
     "output_type": "stream",
     "text": [
      "Test Accuracy: 0.85\n",
      "[[17980     0     0     0     0     0     0     0     0     0     0]\n",
      " [    0 17205     0     0     0     0     0     0     0     0     0]\n",
      " [    0     0 15765  2231     0     0     0     0     0     0     0]\n",
      " [    0     0  3100 14939     0     0     0     0     0     0     0]\n",
      " [    0     0     0     0 17801     0     0     0     0     0     0]\n",
      " [    0     0     0     0     0 17831     0     0     0     0     0]\n",
      " [    0     0     0     0     0     0 18032     0     0     0     0]\n",
      " [    0     0     0     0     0     0     0     0 18194     0     0]\n",
      " [    0     0     0     0     0     0     0     0 17948     0     0]\n",
      " [  295     0     0     0     0     0     0     0     0 13720  4037]\n",
      " [    0     0     0     0     0     0     0     0     0  1761 16426]]\n"
     ]
    }
   ],
   "source": [
    "svm_m.fit(x_train, y_train)\n",
    "\n",
    "y_pred_svc = svm_m.predict(x_test)\n",
    "print('Test Accuracy: %.2f' % accuracy_score(y_test, y_pred_svc))\n",
    "print(confusion_matrix(y_test, y_pred_svc))  "
   ]
  },
  {
   "cell_type": "code",
   "execution_count": 22,
   "metadata": {},
   "outputs": [
    {
     "data": {
      "text/plain": [
       "['svm_1.pkl']"
      ]
     },
     "execution_count": 22,
     "metadata": {},
     "output_type": "execute_result"
    }
   ],
   "source": [
    "from sklearn.externals import joblib \n",
    "file_name = 'svm_1.pkl' \n",
    "joblib.dump(svm_m, file_name) \n"
   ]
  },
  {
   "cell_type": "code",
   "execution_count": 23,
   "metadata": {},
   "outputs": [
    {
     "name": "stdout",
     "output_type": "stream",
     "text": [
      "Test Accuracy: 0.88\n",
      "[[17980     0     0     0     0     0     0     0     0     0     0]\n",
      " [    0 17205     0     0     0     0     0     0     0     0     0]\n",
      " [    0     0 15830  2166     0     0     0     0     0     0     0]\n",
      " [    0     0   268 17771     0     0     0     0     0     0     0]\n",
      " [    0     0     0     0 17801     0     0     0     0     0     0]\n",
      " [    0     0     0     0     0 17831     0     0     0     0     0]\n",
      " [    0     0     0     0     0     0 18032     0     0     0     0]\n",
      " [    0     0     0     0     0     0     0     0 18194     0     0]\n",
      " [    0     0     0     0     0     0     0     0 17948     0     0]\n",
      " [   26     0     0     0     0     0     0     0     0 16261  1765]\n",
      " [    0     2     0     0     0     0     0     0     0   496 17689]]\n"
     ]
    }
   ],
   "source": [
    "svm_m2 = SVC(kernel='rbf', C= 10, random_state=0, gamma=0.01 )\n",
    "svm_m2.fit(x_train, y_train)\n",
    "\n",
    "y_pred_svc = svm_m2.predict(x_test)\n",
    "print('Test Accuracy: %.2f' % accuracy_score(y_test, y_pred_svc))\n",
    "print(confusion_matrix(y_test, y_pred_svc))  "
   ]
  },
  {
   "cell_type": "code",
   "execution_count": 24,
   "metadata": {},
   "outputs": [
    {
     "data": {
      "text/plain": [
       "['svm_2.pkl']"
      ]
     },
     "execution_count": 24,
     "metadata": {},
     "output_type": "execute_result"
    }
   ],
   "source": [
    "from sklearn.externals import joblib \n",
    "file_name = 'svm_2.pkl' \n",
    "joblib.dump(svm_m2, file_name) "
   ]
  },
  {
   "cell_type": "code",
   "execution_count": 25,
   "metadata": {},
   "outputs": [
    {
     "name": "stdout",
     "output_type": "stream",
     "text": [
      "Test Accuracy: 0.91\n",
      "[[17980     0     0     0     0     0     0     0     0     0     0]\n",
      " [    0 17205     0     0     0     0     0     0     0     0     0]\n",
      " [    0     0 17988     8     0     0     0     0     0     0     0]\n",
      " [    0     0    53 17986     0     0     0     0     0     0     0]\n",
      " [    0     0     0     0 17801     0     0     0     0     0     0]\n",
      " [    0     0     0     0     0 17831     0     0     0     0     0]\n",
      " [    0     0     0     0     0     0 18032     0     0     0     0]\n",
      " [    0     0     0     0     0     0     0     0 18194     0     0]\n",
      " [    0     0     0     0     0     0     0     0 17948     0     0]\n",
      " [    0     0     0     0     0     0     0     0     0 17975    77]\n",
      " [    0     0     0     0     0     0     0     0     0     7 18180]]\n"
     ]
    }
   ],
   "source": [
    "svm_m3 = SVC(kernel='rbf', C= 10, random_state=0, gamma=0.1 )\n",
    "svm_m3.fit(x_train, y_train)\n",
    "\n",
    "y_pred_svc = svm_m3.predict(x_test)\n",
    "print('Test Accuracy: %.2f' % accuracy_score(y_test, y_pred_svc))\n",
    "print(confusion_matrix(y_test, y_pred_svc))"
   ]
  },
  {
   "cell_type": "code",
   "execution_count": 26,
   "metadata": {
    "scrolled": true
   },
   "outputs": [
    {
     "data": {
      "text/plain": [
       "['svm_3.pkl']"
      ]
     },
     "execution_count": 26,
     "metadata": {},
     "output_type": "execute_result"
    }
   ],
   "source": [
    "from sklearn.externals import joblib \n",
    "file_name = 'svm_3.pkl' \n",
    "joblib.dump(svm_m3, file_name) "
   ]
  },
  {
   "cell_type": "code",
   "execution_count": 27,
   "metadata": {},
   "outputs": [],
   "source": [
    "file_name = 'svm_3.pkl' \n",
    "load_svm= joblib.load(file_name) "
   ]
  },
  {
   "cell_type": "code",
   "execution_count": 28,
   "metadata": {},
   "outputs": [
    {
     "name": "stdout",
     "output_type": "stream",
     "text": [
      "Test Accuracy: 0.91\n"
     ]
    }
   ],
   "source": [
    "y_pred_svc = load_svm.predict(x_test)\n",
    "print('Test Accuracy: %.2f' % accuracy_score(y_test, y_pred_svc))\n",
    "#print(confusion_matrix(y_test, y_pred_svc))"
   ]
  },
  {
   "cell_type": "code",
   "execution_count": 60,
   "metadata": {
    "scrolled": false
   },
   "outputs": [
    {
     "name": "stdout",
     "output_type": "stream",
     "text": [
      "197265/197265 [==============================] - 13s 66us/sample - loss: 0.1377 - acc: 0.9068\n"
     ]
    },
    {
     "data": {
      "text/plain": [
       "[0.1377050906157068, 0.9068309]"
      ]
     },
     "execution_count": 60,
     "metadata": {},
     "output_type": "execute_result"
    }
   ],
   "source": [
    "model.evaluate(x_test, y_test)"
   ]
  },
  {
   "cell_type": "code",
   "execution_count": 47,
   "metadata": {},
   "outputs": [
    {
     "data": {
      "image/png": "[encoded data removed]",
      "text/plain": [
       "<Figure size 432x288 with 13 Axes>"
      ]
     },
     "metadata": {
      "needs_background": "light"
     },
     "output_type": "display_data"
    }
   ],
   "source": [
    "# INPUT::\n",
    "# 1. crim: per capita crime rate by town.\n",
    "# 2. zn: proportion of residential land zoned for lots over 25,000 sq.ft.\n",
    "# 3. indus: proportion of non-retail business acres per town.\n",
    "# 4. chas: Charles River dummy variable (= 1 if tract bounds river; 0 otherwise).\n",
    "# 5. nox: nitrogen oxides concentration (parts per 10 million).\n",
    "# 6. rm: average number of rooms per dwelling.\n",
    "# 7. age: proportion of owner-occupied units built prior to 1940.\n",
    "# 8. dis: weighted mean of distances to five Boston employment centres.\n",
    "# 9. rad: index of accessibility to radial highways.\n",
    "# 10. tax: full-value property-tax rate per $10,000.\n",
    "# 11. ptratio: pupil-teacher ratio by town.\n",
    "# 12. black: 1000(Bk - 0.63)^2 where Bk is the proportion of blacks by town.\n",
    "# 13. lstat: lower status of the population (percent).\n",
    "\n",
    "# TARGET::\n",
    "# medv: median value of owner-occupied homes in $1000s.\n",
    "\n",
    "boston_housing = ['crim', 'zn', 'indus', 'chas', 'nox', 'rm', 'age',\n",
    "                  'dis', 'rad', 'tax', 'ptratio', 'black', 'lstat']\n",
    "'''\n",
    "\n",
    "plot 방법 시험!\n",
    "\n",
    "'''\n",
    "for i in range(13):\n",
    "    plt.subplot(3,5,i+1)\n",
    "    plt.plot(x_train[:,i], y_train, '.')\n",
    "    plt.title(boston_housing[i])\n",
    "plt.show()"
   ]
  },
  {
   "cell_type": "markdown",
   "metadata": {},
   "source": [
    "### ***make the highest price!"
   ]
  },
  {
   "cell_type": "code",
   "execution_count": 20,
   "metadata": {
    "scrolled": true
   },
   "outputs": [
    {
     "data": {
      "text/plain": [
       "array([[274.68948],\n",
       "       [273.34348]], dtype=float32)"
      ]
     },
     "execution_count": 20,
     "metadata": {},
     "output_type": "execute_result"
    }
   ],
   "source": [
    "#model predict 모델 사용하기\n",
    "#** reshape: 그냥 list는 13개 숫자인데 (1,13)으로 만들어줘야한다.\n",
    "model.predict(np.array([0, 90, 0, 1, 0, \n",
    "                        100, 0, 10, 0, 250, \n",
    "                        13, 300, 0, 10, 90, 0, 1, 0, \n",
    "                        100, 0, 10, 0, 250, \n",
    "                        13, 300, 0]).reshape(2,13)) #첫번째값이 0인 이유는 crim의 plot을 봤을 때, 0에 가까울 때 집값이 높기 때문이다."
   ]
  },
  {
   "cell_type": "code",
   "execution_count": 17,
   "metadata": {},
   "outputs": [
    {
     "data": {
      "text/plain": [
       "array([[  0,  90,   0,   1,   0, 100,   0,  10,   0, 250,  13, 300,   0]])"
      ]
     },
     "execution_count": 17,
     "metadata": {},
     "output_type": "execute_result"
    }
   ],
   "source": [
    "a =np.array([0, 90, 0, 1, 0, \n",
    "                        100, 0, 10, 0, 250, \n",
    "                        13, 300, 0])\n",
    "a.reshape(1,13)"
   ]
  },
  {
   "cell_type": "markdown",
   "metadata": {},
   "source": [
    "### make the lowest price!"
   ]
  },
  {
   "cell_type": "code",
   "execution_count": 21,
   "metadata": {},
   "outputs": [
    {
     "data": {
      "text/plain": [
       "array([[111.95201]], dtype=float32)"
      ]
     },
     "execution_count": 21,
     "metadata": {},
     "output_type": "execute_result"
    }
   ],
   "source": [
    "model.predict(np.array([100, 10, 25, 0, 1, \n",
    "                        50, 100, 0, 25, 700, \n",
    "                        23, 0, 30]).reshape(1,13))"
   ]
  },
  {
   "cell_type": "code",
   "execution_count": null,
   "metadata": {},
   "outputs": [],
   "source": []
  }
 ],
 "metadata": {
  "kernelspec": {
   "display_name": "Python 3",
   "language": "python",
   "name": "python3"
  },
  "language_info": {
   "codemirror_mode": {
    "name": "ipython",
    "version": 3
   },
   "file_extension": ".py",
   "mimetype": "text/x-python",
   "name": "python",
   "nbconvert_exporter": "python",
   "pygments_lexer": "ipython3",
   "version": "3.7.1"
  }
 },
 "nbformat": 4,
 "nbformat_minor": 2
}
