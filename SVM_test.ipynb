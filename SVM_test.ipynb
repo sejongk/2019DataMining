{
 "cells": [
  {
   "cell_type": "code",
   "execution_count": 22,
   "metadata": {},
   "outputs": [],
   "source": [
    "import pandas as pd \n",
    "import numpy as np\n",
    "import matplotlib.pyplot as plt\n",
    "from sklearn.metrics import accuracy_score \n",
    "from sklearn.metrics import confusion_matrix\n",
    "\n",
    "from sklearn.svm import SVC\n",
    "\n",
    "X = pd.read_csv('minimum2.csv', delimiter = ',')\n",
    "Y = pd.read_csv('minimum_C.csv', delimiter = ',')"
   ]
  },
  {
   "cell_type": "code",
   "execution_count": 23,
   "metadata": {},
   "outputs": [],
   "source": [
    "gamma = [10, 1, 0.1, 1e-5, 1e-4, 1e-5] # 4 0-4\n",
    "cost = [0.001, 0.10, 0.1, 10, 25, 50, 100, 1000] #8 40 30 2-6"
   ]
  },
  {
   "cell_type": "code",
   "execution_count": 3,
   "metadata": {},
   "outputs": [
    {
     "name": "stdout",
     "output_type": "stream",
     "text": [
      "gamma:  1 , cost:  0.1\n",
      "Training Accuracy: 0.32\n",
      "[[   0    0    0 2100    0    0    0    0    0    0    0]\n",
      " [   0 3150    0    0    0    0    0    0    0    0    0]\n",
      " [   0    0 3150    0    0    0    0    0    0    0    0]\n",
      " [   0    0    0 3150    0    0    0    0    0    0    0]\n",
      " [   0    0    0 3150    0    0    0    0    0    0    0]\n",
      " [   0    0    0 2100    0    0    0    0    0    0    0]\n",
      " [   0    0    0 2100    0    0    0    0    0    0    0]\n",
      " [   0    0    0 3150    0    0    0    0    0    0    0]\n",
      " [   0    0    0 3150    0    0    0    0    0    0    0]\n",
      " [   0    0    0 2100    0    0    0    0    0    0    0]\n",
      " [   0    0    0 2100    0    0    0    0    0    0    0]]\n",
      "gamma:  1 , cost:  10\n",
      "Training Accuracy: 0.81\n",
      "[[2093    7    0    0    0    0    0    0    0    0    0]\n",
      " [   0 3150    0    0    0    0    0    0    0    0    0]\n",
      " [   0   57 3093    0    0    0    0    0    0    0    0]\n",
      " [   0  145    0 3005    0    0    0    0    0    0    0]\n",
      " [   0  498    0    0 2652    0    0    0    0    0    0]\n",
      " [   0   17    0    0    0 2083    0    0    0    0    0]\n",
      " [   0    6    0    0    0    0 2094    0    0    0    0]\n",
      " [   0 2415    0    0    0    0    0  735    0    0    0]\n",
      " [   0 2454    0    0    0    0    0    0  696    0    0]\n",
      " [   0    2    0    0    0    0    0    0    0 2098    0]\n",
      " [   0    4    0    0    0    0    0    0    0    0 2096]]\n",
      "gamma:  1 , cost:  25\n",
      "Training Accuracy: 0.81\n",
      "[[2093    7    0    0    0    0    0    0    0    0    0]\n",
      " [   0 3150    0    0    0    0    0    0    0    0    0]\n",
      " [   0   57 3093    0    0    0    0    0    0    0    0]\n",
      " [   0  145    0 3005    0    0    0    0    0    0    0]\n",
      " [   0  498    0    0 2652    0    0    0    0    0    0]\n",
      " [   0   17    0    0    0 2083    0    0    0    0    0]\n",
      " [   0    6    0    0    0    0 2094    0    0    0    0]\n",
      " [   0 2415    0    0    0    0    0  735    0    0    0]\n",
      " [   0 2454    0    0    0    0    0    0  696    0    0]\n",
      " [   0    2    0    0    0    0    0    0    0 2098    0]\n",
      " [   0    4    0    0    0    0    0    0    0    0 2096]]\n",
      "gamma:  0.1 , cost:  0.1\n",
      "Training Accuracy: 0.32\n",
      "[[   0    0    0 2100    0    0    0    0    0    0    0]\n",
      " [   0 3150    0    0    0    0    0    0    0    0    0]\n",
      " [   0    0 3150    0    0    0    0    0    0    0    0]\n",
      " [   0    0    0 3150    0    0    0    0    0    0    0]\n",
      " [   0    0    0 3150    0    0    0    0    0    0    0]\n",
      " [   0    0    0 2100    0    0    0    0    0    0    0]\n",
      " [   0    0    0 2100    0    0    0    0    0    0    0]\n",
      " [   0    0    0 3150    0    0    0    0    0    0    0]\n",
      " [   0    0    0 3150    0    0    0    0    0    0    0]\n",
      " [   0    0    0 2100    0    0    0    0    0    0    0]\n",
      " [   0    0    0 2100    0    0    0    0    0    0    0]]\n",
      "gamma:  0.1 , cost:  10\n",
      "Training Accuracy: 0.83\n",
      "[[2093    7    0    0    0    0    0    0    0    0    0]\n",
      " [   0 3150    0    0    0    0    0    0    0    0    0]\n",
      " [   0   57 3093    0    0    0    0    0    0    0    0]\n",
      " [   0  145    0 3005    0    0    0    0    0    0    0]\n",
      " [   0  498    0    0 2652    0    0    0    0    0    0]\n",
      " [   0   16    0    0    0 2084    0    0    0    0    0]\n",
      " [   0    6    0    0    0    0 2094    0    0    0    0]\n",
      " [   0 2115    0    0    0    0    0 1035    0    0    0]\n",
      " [   0 2214    0    0    0    0    0    0  936    0    0]\n",
      " [   0    2    0    0    0    0    0    0    0 2098    0]\n",
      " [   0    4    0    0    0    0    0    0    0    0 2096]]\n",
      "gamma:  0.1 , cost:  25\n",
      "Training Accuracy: 0.83\n",
      "[[2093    7    0    0    0    0    0    0    0    0    0]\n",
      " [   0 3150    0    0    0    0    0    0    0    0    0]\n",
      " [   0   57 3093    0    0    0    0    0    0    0    0]\n",
      " [   0  145    0 3005    0    0    0    0    0    0    0]\n",
      " [   0  498    0    0 2652    0    0    0    0    0    0]\n",
      " [   0   16    0    0    0 2084    0    0    0    0    0]\n",
      " [   0    6    0    0    0    0 2094    0    0    0    0]\n",
      " [   0 2115    0    0    0    0    0 1035    0    0    0]\n",
      " [   0 2214    0    0    0    0    0    0  936    0    0]\n",
      " [   0    2    0    0    0    0    0    0    0 2098    0]\n",
      " [   0    4    0    0    0    0    0    0    0    0 2096]]\n",
      "gamma:  1e-05 , cost:  0.1\n",
      "Training Accuracy: 0.51\n",
      "[[   0    0    0 2100    0    0    0    0    0    0    0]\n",
      " [   0  879    0 2271    0    0    0    0    0    0    0]\n",
      " [   0    0 3150    0    0    0    0    0    0    0    0]\n",
      " [   0    0    0 3150    0    0    0    0    0    0    0]\n",
      " [   0    0   10 2901  239    0    0    0    0    0    0]\n",
      " [   0    0    3  708    0 1389    0    0    0    0    0]\n",
      " [   0    0    0 2083    0    0   17    0    0    0    0]\n",
      " [   0    0    0    3    0    0    0 3147    0    0    0]\n",
      " [   0    0    0    3    0    0    0    0 3147    0    0]\n",
      " [   0    0    0 2100    0    0    0    0    0    0    0]\n",
      " [   0    0    0 2100    0    0    0    0    0    0    0]]\n",
      "gamma:  1e-05 , cost:  10\n",
      "Training Accuracy: 0.98\n",
      "[[2095    0    5    0    0    0    0    0    0    0    0]\n",
      " [   0 3142    8    0    0    0    0    0    0    0    0]\n",
      " [   0    0 3150    0    0    0    0    0    0    0    0]\n",
      " [   0    0  104 3046    0    0    0    0    0    0    0]\n",
      " [   0    0  484    0 2666    0    0    0    0    0    0]\n",
      " [   0    0    0    0    0 2100    0    0    0    0    0]\n",
      " [   0    0    1    0    0    0 2099    0    0    0    0]\n",
      " [   0    0    0    0    0    0    0 3150    0    0    0]\n",
      " [   0    0    0    0    0    0    0    0 3150    0    0]\n",
      " [   0    0    1    0    0    0    0    0    0 2099    0]\n",
      " [   0    0    4    0    0    0    0    0    0    0 2096]]\n",
      "gamma:  1e-05 , cost:  25\n",
      "Training Accuracy: 0.98\n",
      "[[2095    0    5    0    0    0    0    0    0    0    0]\n",
      " [   0 3142    8    0    0    0    0    0    0    0    0]\n",
      " [   0    0 3150    0    0    0    0    0    0    0    0]\n",
      " [   0    0  104 3046    0    0    0    0    0    0    0]\n",
      " [   0    0  484    0 2666    0    0    0    0    0    0]\n",
      " [   0    0    0    0    0 2100    0    0    0    0    0]\n",
      " [   0    0    1    0    0    0 2099    0    0    0    0]\n",
      " [   0    0    0    0    0    0    0 3150    0    0    0]\n",
      " [   0    0    0    0    0    0    0    0 3150    0    0]\n",
      " [   0    0    1    0    0    0    0    0    0 2099    0]\n",
      " [   0    0    4    0    0    0    0    0    0    0 2096]]\n"
     ]
    }
   ],
   "source": [
    "for i in range(1,4):\n",
    "    for j in range(2,5):\n",
    "        print(\"gamma: \", gamma[i], \", cost: \", cost[j])\n",
    "        model = SVC(kernel='rbf', C= cost[j], random_state=0, gamma=gamma[i] )\n",
    "        model.fit(X, Y.values.ravel())\n",
    "        y_pred_svc = model.predict(X)\n",
    "        print('Training Accuracy: %.2f' % accuracy_score(Y, y_pred_svc))\n",
    "        print(confusion_matrix(Y, y_pred_svc))"
   ]
  },
  {
   "cell_type": "code",
   "execution_count": 4,
   "metadata": {},
   "outputs": [
    {
     "name": "stdout",
     "output_type": "stream",
     "text": [
      "gamma:  10 , cost:  0.1\n",
      "Training Accuracy: 0.11\n",
      "[[   0 2100    0    0    0    0    0    0    0    0    0]\n",
      " [   0 3150    0    0    0    0    0    0    0    0    0]\n",
      " [   0 3150    0    0    0    0    0    0    0    0    0]\n",
      " [   0 3150    0    0    0    0    0    0    0    0    0]\n",
      " [   0 3150    0    0    0    0    0    0    0    0    0]\n",
      " [   0 2100    0    0    0    0    0    0    0    0    0]\n",
      " [   0 2100    0    0    0    0    0    0    0    0    0]\n",
      " [   0 3150    0    0    0    0    0    0    0    0    0]\n",
      " [   0 3150    0    0    0    0    0    0    0    0    0]\n",
      " [   0 2100    0    0    0    0    0    0    0    0    0]\n",
      " [   0 2100    0    0    0    0    0    0    0    0    0]]\n",
      "gamma:  10 , cost:  10\n",
      "Training Accuracy: 0.11\n",
      "[[   0    0    0    0    0    0    0    0 2100    0    0]\n",
      " [   0    0    0    0    0    0    0    0 3150    0    0]\n",
      " [   0    0    0    0    0    0    0    0 3150    0    0]\n",
      " [   0    0    0    0    0    0    0    0 3150    0    0]\n",
      " [   0    0    0    0    0    0    0    0 3150    0    0]\n",
      " [   0    0    0    0    0    0    0    0 2100    0    0]\n",
      " [   0    0    0    0    0    0    0    0 2100    0    0]\n",
      " [   0    0    0    0    0    0    0    0 3150    0    0]\n",
      " [   0    0    0    0    0    0    0    0 3150    0    0]\n",
      " [   0    0    0    0    0    0    0    0 2100    0    0]\n",
      " [   0    0    0    0    0    0    0    0 2100    0    0]]\n",
      "gamma:  10 , cost:  25\n",
      "Training Accuracy: 0.11\n",
      "[[   0    0    0    0    0    0    0    0 2100    0    0]\n",
      " [   0    0    0    0    0    0    0    0 3150    0    0]\n",
      " [   0    0    0    0    0    0    0    0 3150    0    0]\n",
      " [   0    0    0    0    0    0    0    0 3150    0    0]\n",
      " [   0    0    0    0    0    0    0    0 3150    0    0]\n",
      " [   0    0    0    0    0    0    0    0 2100    0    0]\n",
      " [   0    0    0    0    0    0    0    0 2100    0    0]\n",
      " [   0    0    0    0    0    0    0    0 3150    0    0]\n",
      " [   0    0    0    0    0    0    0    0 3150    0    0]\n",
      " [   0    0    0    0    0    0    0    0 2100    0    0]\n",
      " [   0    0    0    0    0    0    0    0 2100    0    0]]\n",
      "gamma:  10 , cost:  50\n",
      "Training Accuracy: 0.11\n",
      "[[   0    0    0    0    0    0    0    0 2100    0    0]\n",
      " [   0    0    0    0    0    0    0    0 3150    0    0]\n",
      " [   0    0    0    0    0    0    0    0 3150    0    0]\n",
      " [   0    0    0    0    0    0    0    0 3150    0    0]\n",
      " [   0    0    0    0    0    0    0    0 3150    0    0]\n",
      " [   0    0    0    0    0    0    0    0 2100    0    0]\n",
      " [   0    0    0    0    0    0    0    0 2100    0    0]\n",
      " [   0    0    0    0    0    0    0    0 3150    0    0]\n",
      " [   0    0    0    0    0    0    0    0 3150    0    0]\n",
      " [   0    0    0    0    0    0    0    0 2100    0    0]\n",
      " [   0    0    0    0    0    0    0    0 2100    0    0]]\n",
      "gamma:  1 , cost:  0.1\n",
      "Training Accuracy: 0.11\n",
      "[[   0 2100    0    0    0    0    0    0    0    0    0]\n",
      " [   0 3150    0    0    0    0    0    0    0    0    0]\n",
      " [   0 3150    0    0    0    0    0    0    0    0    0]\n",
      " [   0 3150    0    0    0    0    0    0    0    0    0]\n",
      " [   0 3150    0    0    0    0    0    0    0    0    0]\n",
      " [   0 2100    0    0    0    0    0    0    0    0    0]\n",
      " [   0 2100    0    0    0    0    0    0    0    0    0]\n",
      " [   0 3150    0    0    0    0    0    0    0    0    0]\n",
      " [   0 3150    0    0    0    0    0    0    0    0    0]\n",
      " [   0 2100    0    0    0    0    0    0    0    0    0]\n",
      " [   0 2100    0    0    0    0    0    0    0    0    0]]\n",
      "gamma:  1 , cost:  10\n",
      "Training Accuracy: 0.11\n",
      "[[   0    0    0    0    0    0    0    0 2100    0    0]\n",
      " [   0    0    0    0    0    0    0    0 3150    0    0]\n",
      " [   0    0    0    0    0    0    0    0 3150    0    0]\n",
      " [   0    0    0    0    0    0    0    0 3150    0    0]\n",
      " [   0    0    0    0    0    0    0    0 3150    0    0]\n",
      " [   0    0    0    0    0    0    0    0 2100    0    0]\n",
      " [   0    0    0    0    0    0    0    0 2100    0    0]\n",
      " [   0    0    0    0    0    0    0    0 3150    0    0]\n",
      " [   0    0    0    0    0    0    0    0 3150    0    0]\n",
      " [   0    0    0    0    0    0    0    0 2100    0    0]\n",
      " [   0    0    0    0    0    0    0    0 2100    0    0]]\n",
      "gamma:  1 , cost:  25\n",
      "Training Accuracy: 0.11\n",
      "[[   0    0    0    0    0    0    0    0 2100    0    0]\n",
      " [   0    0    0    0    0    0    0    0 3150    0    0]\n",
      " [   0    0    0    0    0    0    0    0 3150    0    0]\n",
      " [   0    0    0    0    0    0    0    0 3150    0    0]\n",
      " [   0    0    0    0    0    0    0    0 3150    0    0]\n",
      " [   0    0    0    0    0    0    0    0 2100    0    0]\n",
      " [   0    0    0    0    0    0    0    0 2100    0    0]\n",
      " [   0    0    0    0    0    0    0    0 3150    0    0]\n",
      " [   0    0    0    0    0    0    0    0 3150    0    0]\n",
      " [   0    0    0    0    0    0    0    0 2100    0    0]\n",
      " [   0    0    0    0    0    0    0    0 2100    0    0]]\n",
      "gamma:  1 , cost:  50\n",
      "Training Accuracy: 0.11\n",
      "[[   0    0    0    0    0    0    0    0 2100    0    0]\n",
      " [   0    0    0    0    0    0    0    0 3150    0    0]\n",
      " [   0    0    0    0    0    0    0    0 3150    0    0]\n",
      " [   0    0    0    0    0    0    0    0 3150    0    0]\n",
      " [   0    0    0    0    0    0    0    0 3150    0    0]\n",
      " [   0    0    0    0    0    0    0    0 2100    0    0]\n",
      " [   0    0    0    0    0    0    0    0 2100    0    0]\n",
      " [   0    0    0    0    0    0    0    0 3150    0    0]\n",
      " [   0    0    0    0    0    0    0    0 3150    0    0]\n",
      " [   0    0    0    0    0    0    0    0 2100    0    0]\n",
      " [   0    0    0    0    0    0    0    0 2100    0    0]]\n",
      "gamma:  0.1 , cost:  0.1\n",
      "Training Accuracy: 0.11\n",
      "[[   0 2100    0    0    0    0    0    0    0    0    0]\n",
      " [   0 3150    0    0    0    0    0    0    0    0    0]\n",
      " [   0 3150    0    0    0    0    0    0    0    0    0]\n",
      " [   0 3150    0    0    0    0    0    0    0    0    0]\n",
      " [   0 3150    0    0    0    0    0    0    0    0    0]\n",
      " [   0 2100    0    0    0    0    0    0    0    0    0]\n",
      " [   0 2100    0    0    0    0    0    0    0    0    0]\n",
      " [   0 3150    0    0    0    0    0    0    0    0    0]\n",
      " [   0 3150    0    0    0    0    0    0    0    0    0]\n",
      " [   0 2100    0    0    0    0    0    0    0    0    0]\n",
      " [   0 2100    0    0    0    0    0    0    0    0    0]]\n",
      "gamma:  0.1 , cost:  10\n",
      "Training Accuracy: 0.11\n",
      "[[   0    0    0    0    0    0    0    0 2100    0    0]\n",
      " [   0    0    0    0    0    0    0    0 3150    0    0]\n",
      " [   0    0    0    0    0    0    0    0 3150    0    0]\n",
      " [   0    0    0    0    0    0    0    0 3150    0    0]\n",
      " [   0    0    0    0    0    0    0    0 3150    0    0]\n",
      " [   0    0    0    0    0    0    0    0 2100    0    0]\n",
      " [   0    0    0    0    0    0    0    0 2100    0    0]\n",
      " [   0    0    0    0    0    0    0    0 3150    0    0]\n",
      " [   0    0    0    0    0    0    0    0 3150    0    0]\n",
      " [   0    0    0    0    0    0    0    0 2100    0    0]\n",
      " [   0    0    0    0    0    0    0    0 2100    0    0]]\n",
      "gamma:  0.1 , cost:  25\n",
      "Training Accuracy: 0.11\n",
      "[[   0    0    0    0    0    0    0    0 2100    0    0]\n",
      " [   0    0    0    0    0    0    0    0 3150    0    0]\n",
      " [   0    0    0    0    0    0    0    0 3150    0    0]\n",
      " [   0    0    0    0    0    0    0    0 3150    0    0]\n",
      " [   0    0    0    0    0    0    0    0 3150    0    0]\n",
      " [   0    0    0    0    0    0    0    0 2100    0    0]\n",
      " [   0    0    0    0    0    0    0    0 2100    0    0]\n",
      " [   0    0    0    0    0    0    0    0 3150    0    0]\n",
      " [   0    0    0    0    0    0    0    0 3150    0    0]\n",
      " [   0    0    0    0    0    0    0    0 2100    0    0]\n",
      " [   0    0    0    0    0    0    0    0 2100    0    0]]\n",
      "gamma:  0.1 , cost:  50\n",
      "Training Accuracy: 0.11\n",
      "[[   0    0    0    0    0    0    0    0 2100    0    0]\n",
      " [   0    0    0    0    0    0    0    0 3150    0    0]\n",
      " [   0    0    0    0    0    0    0    0 3150    0    0]\n",
      " [   0    0    0    0    0    0    0    0 3150    0    0]\n",
      " [   0    0    0    0    0    0    0    0 3150    0    0]\n",
      " [   0    0    0    0    0    0    0    0 2100    0    0]\n",
      " [   0    0    0    0    0    0    0    0 2100    0    0]\n",
      " [   0    0    0    0    0    0    0    0 3150    0    0]\n",
      " [   0    0    0    0    0    0    0    0 3150    0    0]\n",
      " [   0    0    0    0    0    0    0    0 2100    0    0]\n",
      " [   0    0    0    0    0    0    0    0 2100    0    0]]\n",
      "gamma:  1e-05 , cost:  0.1\n"
     ]
    },
    {
     "name": "stdout",
     "output_type": "stream",
     "text": [
      "Training Accuracy: 0.11\n",
      "[[   0 2100    0    0    0    0    0    0    0    0    0]\n",
      " [   0 3150    0    0    0    0    0    0    0    0    0]\n",
      " [   0 3150    0    0    0    0    0    0    0    0    0]\n",
      " [   0 3150    0    0    0    0    0    0    0    0    0]\n",
      " [   0 3150    0    0    0    0    0    0    0    0    0]\n",
      " [   0 2100    0    0    0    0    0    0    0    0    0]\n",
      " [   0 2100    0    0    0    0    0    0    0    0    0]\n",
      " [   0 3150    0    0    0    0    0    0    0    0    0]\n",
      " [   0 3150    0    0    0    0    0    0    0    0    0]\n",
      " [   0 2100    0    0    0    0    0    0    0    0    0]\n",
      " [   0 2100    0    0    0    0    0    0    0    0    0]]\n",
      "gamma:  1e-05 , cost:  10\n",
      "Training Accuracy: 0.11\n",
      "[[   0    0    0    0    0    0    0    0 2100    0    0]\n",
      " [   0    0    0    0    0    0    0    0 3150    0    0]\n",
      " [   0    0    0    0    0    0    0    0 3150    0    0]\n",
      " [   0    0    0    0    0    0    0    0 3150    0    0]\n",
      " [   0    0    0    0    0    0    0    0 3150    0    0]\n",
      " [   0    0    0    0    0    0    0    0 2100    0    0]\n",
      " [   0    0    0    0    0    0    0    0 2100    0    0]\n",
      " [   0    0    0    0    0    0    0    0 3150    0    0]\n",
      " [   0    0    0    0    0    0    0    0 3150    0    0]\n",
      " [   0    0    0    0    0    0    0    0 2100    0    0]\n",
      " [   0    0    0    0    0    0    0    0 2100    0    0]]\n",
      "gamma:  1e-05 , cost:  25\n",
      "Training Accuracy: 0.11\n",
      "[[   0    0    0    0    0    0    0    0 2100    0    0]\n",
      " [   0    0    0    0    0    0    0    0 3150    0    0]\n",
      " [   0    0    0    0    0    0    0    0 3150    0    0]\n",
      " [   0    0    0    0    0    0    0    0 3150    0    0]\n",
      " [   0    0    0    0    0    0    0    0 3150    0    0]\n",
      " [   0    0    0    0    0    0    0    0 2100    0    0]\n",
      " [   0    0    0    0    0    0    0    0 2100    0    0]\n",
      " [   0    0    0    0    0    0    0    0 3150    0    0]\n",
      " [   0    0    0    0    0    0    0    0 3150    0    0]\n",
      " [   0    0    0    0    0    0    0    0 2100    0    0]\n",
      " [   0    0    0    0    0    0    0    0 2100    0    0]]\n",
      "gamma:  1e-05 , cost:  50\n",
      "Training Accuracy: 0.11\n",
      "[[   0    0    0    0    0    0    0    0 2100    0    0]\n",
      " [   0    0    0    0    0    0    0    0 3150    0    0]\n",
      " [   0    0    0    0    0    0    0    0 3150    0    0]\n",
      " [   0    0    0    0    0    0    0    0 3150    0    0]\n",
      " [   0    0    0    0    0    0    0    0 3150    0    0]\n",
      " [   0    0    0    0    0    0    0    0 2100    0    0]\n",
      " [   0    0    0    0    0    0    0    0 2100    0    0]\n",
      " [   0    0    0    0    0    0    0    0 3150    0    0]\n",
      " [   0    0    0    0    0    0    0    0 3150    0    0]\n",
      " [   0    0    0    0    0    0    0    0 2100    0    0]\n",
      " [   0    0    0    0    0    0    0    0 2100    0    0]]\n"
     ]
    }
   ],
   "source": [
    "for i in range(0,4):\n",
    "    for j in range(2,6):\n",
    "        print(\"gamma: \", gamma[i], \", cost: \", cost[j])\n",
    "        model = SVC(kernel='sigmoid', C= cost[j], random_state=0, gamma=gamma[i] )\n",
    "        model.fit(X, Y.values.ravel())\n",
    "        y_pred_svc = model.predict(X)\n",
    "        print('Training Accuracy: %.2f' % accuracy_score(Y, y_pred_svc))\n",
    "        print(confusion_matrix(Y, y_pred_svc))"
   ]
  },
  {
   "cell_type": "code",
   "execution_count": 3,
   "metadata": {
    "scrolled": false
   },
   "outputs": [
    {
     "name": "stdout",
     "output_type": "stream",
     "text": [
      "Training Accuracy: 0.98\n",
      "[[2094    0    6    0    0    0    0    0    0    0    0]\n",
      " [   0 3141    9    0    0    0    0    0    0    0    0]\n",
      " [   0    0 3150    0    0    0    0    0    0    0    0]\n",
      " [   0    0  137 3013    0    0    0    0    0    0    0]\n",
      " [   0    0  492    0 2658    0    0    0    0    0    0]\n",
      " [   0    0    0    0    0 2100    0    0    0    0    0]\n",
      " [   0    0    3    0    0    0 2097    0    0    0    0]\n",
      " [   0    0    0    0    0    0    0 3150    0    0    0]\n",
      " [   0    0    0    0    0    0    0    0 3150    0    0]\n",
      " [   0    0    2    0    0    0    0    0    0 2098    0]\n",
      " [   0    0    4    0    0    0    0    0    0    0 2096]]\n",
      "Training Accuracy: 0.98\n",
      "[[2095    0    5    0    0    0    0    0    0    0    0]\n",
      " [   0 3142    8    0    0    0    0    0    0    0    0]\n",
      " [   0    0 3150    0    0    0    0    0    0    0    0]\n",
      " [   0    0  104 3046    0    0    0    0    0    0    0]\n",
      " [   0    0  484    0 2666    0    0    0    0    0    0]\n",
      " [   0    0    0    0    0 2100    0    0    0    0    0]\n",
      " [   0    0    1    0    0    0 2099    0    0    0    0]\n",
      " [   0    0    0    0    0    0    0 3150    0    0    0]\n",
      " [   0    0    0    0    0    0    0    0 3150    0    0]\n",
      " [   0    0    1    0    0    0    0    0    0 2099    0]\n",
      " [   0    0    4    0    0    0    0    0    0    0 2096]]\n",
      "Training Accuracy: 0.98\n",
      "[[2099    0    1    0    0    0    0    0    0    0    0]\n",
      " [   0 3143    7    0    0    0    0    0    0    0    0]\n",
      " [   0    0 3150    0    0    0    0    0    0    0    0]\n",
      " [   0    0   20 3130    0    0    0    0    0    0    0]\n",
      " [   0    0  441    0 2709    0    0    0    0    0    0]\n",
      " [   0    0    0    0    0 2100    0    0    0    0    0]\n",
      " [   0    0    1    0    0    0 2099    0    0    0    0]\n",
      " [   0    0    0    0    0    0    0 3150    0    0    0]\n",
      " [   0    0    0    0    0    0    0    0 3150    0    0]\n",
      " [   0    0    1    0    0    0    0    0    0 2099    0]\n",
      " [   0    0    3    0    0    0    0    0    0    0 2097]]\n"
     ]
    }
   ],
   "source": [
    "model = SVC(kernel='rbf', C= 10, random_state=0, gamma=0.0001 )\n",
    "model.fit(X, Y.values.ravel())\n",
    "y_pred_svc = model.predict(X)\n",
    "print('Training Accuracy: %.2f' % accuracy_score(Y, y_pred_svc))\n",
    "print(confusion_matrix(Y, y_pred_svc))\n",
    "\n",
    "model = SVC(kernel='rbf', C= 10, random_state=0, gamma=0.00001 )\n",
    "model.fit(X, Y.values.ravel())\n",
    "y_pred_svc = model.predict(X)\n",
    "print('Training Accuracy: %.2f' % accuracy_score(Y, y_pred_svc))\n",
    "print(confusion_matrix(Y, y_pred_svc))   \n",
    "\n",
    "model = SVC(kernel='rbf', C= 10, random_state=0, gamma=0.000001 )\n",
    "model.fit(X, Y.values.ravel())\n",
    "y_pred_svc = model.predict(X)\n",
    "print('Training Accuracy: %.2f' % accuracy_score(Y, y_pred_svc))\n",
    "print(confusion_matrix(Y, y_pred_svc))       "
   ]
  },
  {
   "cell_type": "code",
   "execution_count": 12,
   "metadata": {},
   "outputs": [],
   "source": [
    "X_test = pd.read_csv('testset.csv', delimiter = ',')\n",
    "Y_test = pd.read_csv('testset_C.csv', delimiter = ',')"
   ]
  },
  {
   "cell_type": "code",
   "execution_count": 13,
   "metadata": {},
   "outputs": [
    {
     "data": {
      "text/plain": [
       "((986750, 48), (986750, 1), (29400, 48))"
      ]
     },
     "execution_count": 13,
     "metadata": {},
     "output_type": "execute_result"
    }
   ],
   "source": [
    "X_test.shape, Y_test.shape, X.shape"
   ]
  },
  {
   "cell_type": "code",
   "execution_count": 14,
   "metadata": {
    "scrolled": false
   },
   "outputs": [
    {
     "name": "stdout",
     "output_type": "stream",
     "text": [
      "Test Accuracy: 0.43\n",
      "[[  3068  99127      0      0      0      0      0      0      0      0\n",
      "       0]\n",
      " [     0  18000      0      0      0      0      0      0      0      0\n",
      "       0]\n",
      " [     0  27550  32168      0      0      0      0      0      0      0\n",
      "       0]\n",
      " [     0  12428      0  16640      0      0      0      0      0      0\n",
      "       0]\n",
      " [     0  20397      0      0   9452      0      0      0      0      0\n",
      "       0]\n",
      " [     0   3816      0      0      0 103869      0      0      0      0\n",
      "       0]\n",
      " [     0  89811      0      0      0      0  32762      0      0      0\n",
      "       0]\n",
      " [     0     89      0      0      0      0      0  92052      0      0\n",
      "       0]\n",
      " [     0    106      0      0      0      0      0      0 105768      0\n",
      "       0]\n",
      " [     0 231098      0      0      0      0      0      0      0   6567\n",
      "       0]\n",
      " [     0  78151      0      0      0      0      0      0      0      0\n",
      "    3831]]\n"
     ]
    }
   ],
   "source": [
    "model = SVC(kernel='rbf', C= 10, random_state=0, gamma=0.0001 )\n",
    "model.fit(X, Y.values.ravel())\n",
    "y_pred_svc = model.predict(X_test)\n",
    "print('Test Accuracy: %.2f' % accuracy_score(Y_test, y_pred_svc))\n",
    "print(confusion_matrix(Y_test, y_pred_svc))\n"
   ]
  },
  {
   "cell_type": "code",
   "execution_count": 18,
   "metadata": {},
   "outputs": [],
   "source": [
    "X = pd.read_csv('goodratio_Min.csv', delimiter = ',')\n",
    "Y = pd.read_csv('goodratio_Min_C.csv', delimiter = ',')\n"
   ]
  },
  {
   "cell_type": "code",
   "execution_count": 22,
   "metadata": {},
   "outputs": [
    {
     "data": {
      "text/plain": [
       "((56400, 48), (56400, 1))"
      ]
     },
     "execution_count": 22,
     "metadata": {},
     "output_type": "execute_result"
    }
   ],
   "source": [
    "X.shape, Y.shape"
   ]
  },
  {
   "cell_type": "code",
   "execution_count": 23,
   "metadata": {},
   "outputs": [
    {
     "name": "stdout",
     "output_type": "stream",
     "text": [
      "Test Accuracy: 0.99\n",
      "[[ 2100     0     0     0     0     0     0     0     0     0     0]\n",
      " [    0 30150     0     0     0     0     0     0     0     0     0]\n",
      " [    0     0  3150     0     0     0     0     0     0     0     0]\n",
      " [    0     0     0  3150     0     0     0     0     0     0     0]\n",
      " [    0   410     0     0  2740     0     0     0     0     0     0]\n",
      " [    0     0     0     0     0  2100     0     0     0     0     0]\n",
      " [    0     0     0     0     0     0  2100     0     0     0     0]\n",
      " [    0     0     0     0     0     0     0  3150     0     0     0]\n",
      " [    0     0     0     0     0     0     0     0  3150     0     0]\n",
      " [    0     0     0     0     0     0     0     0     0  2100     0]\n",
      " [    0     0     0     0     0     0     0     0     0     0  2100]]\n",
      "Test Accuracy: 0.36\n",
      "[[   873 101322      0      0      0      0      0      0      0      0\n",
      "       0]\n",
      " [     0  18000      0      0      0      0      0      0      0      0\n",
      "       0]\n",
      " [     0  59717      1      0      0      0      0      0      0      0\n",
      "       0]\n",
      " [     0  29066      0      2      0      0      0      0      0      0\n",
      "       0]\n",
      " [     0  20793      0      0   9056      0      0      0      0      0\n",
      "       0]\n",
      " [     0   5000      0      0      0 102685      0      0      0      0\n",
      "       0]\n",
      " [     0  98809      0      0      0      0  23764      0      0      0\n",
      "       0]\n",
      " [     0     92      0      0      0      0      0  92049      0      0\n",
      "       0]\n",
      " [     0    109      0      0      0      0      0      0 105765      0\n",
      "       0]\n",
      " [     0 235728      0      0      0      0      0      0      0   1937\n",
      "       0]\n",
      " [     0  80789      0      0      0      0      0      0      0      0\n",
      "    1193]]\n"
     ]
    }
   ],
   "source": [
    "model = SVC(kernel='rbf', C= 10, random_state=0, gamma=0.0001 )\n",
    "model.fit(X, Y.values.ravel())\n",
    "\n",
    "y_pred_svc = model.predict(X)\n",
    "print('Test Accuracy: %.2f' % accuracy_score(Y, y_pred_svc))\n",
    "print(confusion_matrix(Y, y_pred_svc))\n",
    "\n",
    "y_pred_svc = model.predict(X_test)\n",
    "print('Test Accuracy: %.2f' % accuracy_score(Y_test, y_pred_svc))\n",
    "print(confusion_matrix(Y_test, y_pred_svc))"
   ]
  },
  {
   "cell_type": "code",
   "execution_count": 20,
   "metadata": {
    "scrolled": true
   },
   "outputs": [],
   "source": [
    "#first sampling\n",
    "X = pd.read_csv('full.csv', delimiter = ',')\n",
    "Y = pd.read_csv('full_C.csv', delimiter = ',')\n"
   ]
  },
  {
   "cell_type": "code",
   "execution_count": 21,
   "metadata": {},
   "outputs": [
    {
     "data": {
      "text/plain": [
       "((1048575, 48), (1048575, 1))"
      ]
     },
     "execution_count": 21,
     "metadata": {},
     "output_type": "execute_result"
    }
   ],
   "source": [
    "X.shape, Y.shape"
   ]
  },
  {
   "cell_type": "code",
   "execution_count": 24,
   "metadata": {},
   "outputs": [
    {
     "data": {
      "text/plain": [
       "SVC(C=10, cache_size=200, class_weight=None, coef0=0.0,\n",
       "  decision_function_shape='ovr', degree=3, gamma=0.0001, kernel='rbf',\n",
       "  max_iter=-1, probability=False, random_state=0, shrinking=True,\n",
       "  tol=0.001, verbose=False)"
      ]
     },
     "execution_count": 24,
     "metadata": {},
     "output_type": "execute_result"
    }
   ],
   "source": [
    "model = SVC(kernel='rbf', C= 10, random_state=0, gamma=0.0001 )\n",
    "model.fit(X, Y.values.ravel())"
   ]
  },
  {
   "cell_type": "code",
   "execution_count": 27,
   "metadata": {},
   "outputs": [],
   "source": [
    "X_test = pd.read_csv('goodratio_Min.csv', delimiter = ',')\n",
    "Y_test = pd.read_csv('goodratio_Min_C.csv', delimiter = ',')"
   ]
  },
  {
   "cell_type": "code",
   "execution_count": 28,
   "metadata": {
    "scrolled": true
   },
   "outputs": [
    {
     "name": "stdout",
     "output_type": "stream",
     "text": [
      "Test Accuracy: 0.76\n",
      "[[  749  1351     0     0     0     0     0     0     0     0     0]\n",
      " [    0 30150     0     0     0     0     0     0     0     0     0]\n",
      " [    0  3149     1     0     0     0     0     0     0     0     0]\n",
      " [    0  3148     0     2     0     0     0     0     0     0     0]\n",
      " [    0  2054     0     0  1096     0     0     0     0     0     0]\n",
      " [    0    11     0     0     0  2089     0     0     0     0     0]\n",
      " [    0  1386     0     0     0     0   714     0     0     0     0]\n",
      " [    0     3     0     0     0     0     0  3147     0     0     0]\n",
      " [    0     3     0     0     0     0     0     0  3147     0     0]\n",
      " [    0  1372     0     0     0     0     0     0     0   728     0]\n",
      " [    0  1212     0     0     0     0     0     0     0     0   888]]\n"
     ]
    }
   ],
   "source": [
    "y_pred_svc = model.predict(X_test)\n",
    "print('Test Accuracy: %.2f' % accuracy_score(Y_test, y_pred_svc))\n",
    "print(confusion_matrix(Y_test, y_pred_svc))"
   ]
  },
  {
   "cell_type": "code",
   "execution_count": 30,
   "metadata": {},
   "outputs": [
    {
     "data": {
      "text/plain": [
       "((584196, 48), (584196, 1))"
      ]
     },
     "execution_count": 30,
     "metadata": {},
     "output_type": "execute_result"
    }
   ],
   "source": [
    "#no outlier learning\n",
    "X = pd.read_csv('removeOutlier.csv', delimiter = ',')\n",
    "Y = pd.read_csv('removeOutlier_C.csv', delimiter = ',')\n",
    "X.shape, Y.shape"
   ]
  },
  {
   "cell_type": "code",
   "execution_count": null,
   "metadata": {},
   "outputs": [],
   "source": [
    "model = SVC(kernel='rbf', C= 10, random_state=0, gamma=0.0001 )\n",
    "model.fit(X, Y.values.ravel())\n",
    "\n",
    "X_test = pd.read_csv('goodratio_Min.csv', delimiter = ',')\n",
    "Y_test = pd.read_csv('goodratio_Min_C.csv', delimiter = ',')\n",
    "y_pred_svc = model.predict(X_test)\n",
    "print('Test Accuracy: %.2f' % accuracy_score(Y_test, y_pred_svc))\n",
    "print(confusion_matrix(Y_test, y_pred_svc))"
   ]
  },
  {
   "cell_type": "code",
   "execution_count": null,
   "metadata": {},
   "outputs": [],
   "source": [
    "model = SVC(kernel='rbf', C= 10, random_state=0, gamma=0.0000001 )\n",
    "model.fit(X, Y.values.ravel())\n",
    "y_pred_svc = model.predict(X)\n",
    "print('Training Accuracy: %.2f' % accuracy_score(Y, y_pred_svc))\n",
    "print(confusion_matrix(Y, y_pred_svc))    \n",
    "\n",
    "model = SVC(kernel='rbf', C= 10, random_state=0, gamma=0.00000001 )\n",
    "model.fit(X, Y.values.ravel())\n",
    "y_pred_svc = model.predict(X)\n",
    "print('Training Accuracy: %.2f' % accuracy_score(Y, y_pred_svc))\n",
    "print(confusion_matrix(Y, y_pred_svc))      "
   ]
  },
  {
   "cell_type": "code",
   "execution_count": null,
   "metadata": {},
   "outputs": [],
   "source": [
    "model2 = SVC(kernel='linear', C=1.0, random_state=0)\n",
    "# 로지스틱 회귀에서의 C와 반대의 개념. 모델을 조율해주는 값이라고 보면 됨.\n",
    "model2.fit(X, Y.values.ravel())\n",
    "y_pred_svc = model2.predict(X)\n",
    "print('Model1 Accuracy: %.2f' % accuracy_score(Y, y_pred_svc))"
   ]
  },
  {
   "cell_type": "code",
   "execution_count": null,
   "metadata": {},
   "outputs": [],
   "source": [
    "from sklearn.metrics import confusion_matrix\n",
    "confusion_matrix(Y, y_pred_svc)"
   ]
  },
  {
   "cell_type": "code",
   "execution_count": null,
   "metadata": {},
   "outputs": [],
   "source": []
  }
 ],
 "metadata": {
  "kernelspec": {
   "display_name": "Python 3",
   "language": "python",
   "name": "python3"
  },
  "language_info": {
   "codemirror_mode": {
    "name": "ipython",
    "version": 3
   },
   "file_extension": ".py",
   "mimetype": "text/x-python",
   "name": "python",
   "nbconvert_exporter": "python",
   "pygments_lexer": "ipython3",
   "version": "3.7.1"
  }
 },
 "nbformat": 4,
 "nbformat_minor": 2
}
