{
 "cells": [
  {
   "cell_type": "code",
   "execution_count": 76,
   "metadata": {},
   "outputs": [],
   "source": [
    "import pandas as pd\n",
    "from sklearn.preprocessing import StandardScaler\n",
    "X_train = pd.read_csv('row_X.csv', delimiter = ',')\n",
    "X_train = StandardScaler().fit_transform(X_train)"
   ]
  },
  {
   "cell_type": "code",
   "execution_count": 85,
   "metadata": {},
   "outputs": [
    {
     "data": {
      "text/plain": [
       "PCA(copy=True, iterated_power='auto', n_components=3, random_state=None,\n",
       "  svd_solver='auto', tol=0.0, whiten=False)"
      ]
     },
     "execution_count": 85,
     "metadata": {},
     "output_type": "execute_result"
    }
   ],
   "source": [
    "from sklearn.decomposition import PCA\n",
    "\n",
    "pca = PCA(n_components=3)\n",
    "pca.fit(X_train)\n",
    "pca"
   ]
  },
  {
   "cell_type": "code",
   "execution_count": 86,
   "metadata": {},
   "outputs": [
    {
     "name": "stdout",
     "output_type": "stream",
     "text": [
      "singular value : [2847.15302591 2577.03431083 1667.05394653]\n",
      "singular vector :\n",
      " [[-0.01188363 -0.15829419  0.32471742]\n",
      " [ 0.07062655 -0.26971809 -0.1127347 ]\n",
      " [ 0.1021387  -0.22585381 -0.14104571]\n",
      " [-0.00830832 -0.1878737   0.30758545]\n",
      " [ 0.06810561 -0.27102292 -0.12070493]\n",
      " [ 0.10282227 -0.24586269 -0.15117503]\n",
      " [ 0.00578411 -0.20542322  0.16234364]\n",
      " [ 0.06513819 -0.27109433 -0.1190724 ]\n",
      " [ 0.09313389 -0.24806251 -0.15273186]\n",
      " [ 0.23909308  0.0675806   0.03708874]\n",
      " [-0.00888184 -0.11171908  0.39695748]\n",
      " [ 0.07239507 -0.27182597 -0.05246363]\n",
      " [ 0.23079471  0.04603536 -0.05875807]\n",
      " [ 0.11009233 -0.25270194 -0.02911982]\n",
      " [ 0.24120165  0.06778943  0.03405157]\n",
      " [-0.11097579 -0.02382269  0.10804477]\n",
      " [-0.01126401  0.00581136  0.14260899]\n",
      " [ 0.24379786  0.06806911  0.0289206 ]\n",
      " [ 0.240521    0.03286518 -0.06224111]\n",
      " [ 0.2438042   0.06707465  0.01764879]\n",
      " [-0.09754756 -0.02382876  0.10719293]\n",
      " [-0.01801891  0.01865043  0.09195523]\n",
      " [ 0.21439812  0.03358738 -0.06382733]\n",
      " [ 0.21283815  0.06174373  0.00777797]\n",
      " [ 0.02381252  0.01193254  0.09304877]\n",
      " [ 0.02292886  0.03520491  0.0645118 ]\n",
      " [-0.00888184 -0.11171908  0.39695748]\n",
      " [-0.05028361  0.12710727 -0.23957987]\n",
      " [ 0.01007581  0.00942331 -0.00860202]\n",
      " [-0.01639247  0.05917854 -0.06664095]\n",
      " [ 0.00846788 -0.18471054  0.3000185 ]\n",
      " [-0.01624492  0.0601111  -0.06748878]\n",
      " [ 0.03463562 -0.1584536  -0.0674426 ]\n",
      " [ 0.07570185 -0.27047065 -0.05324922]\n",
      " [ 0.22518408  0.05904804 -0.03236712]\n",
      " [ 0.10537521 -0.25436236 -0.03600366]\n",
      " [ 0.22755886  0.06444284  0.08081061]\n",
      " [ 0.19433211  0.06246368  0.08876419]\n",
      " [ 0.17517444  0.06012251  0.12724149]\n",
      " [ 0.03274002 -0.16572512 -0.07695959]\n",
      " [ 0.22909616  0.05893839 -0.04253742]\n",
      " [ 0.23039193  0.0618464   0.06639339]\n",
      " [ 0.18763285  0.06204963  0.11522405]\n",
      " [ 0.13647928  0.05514056  0.144912  ]\n",
      " [ 0.03096253 -0.1594711  -0.0710776 ]\n",
      " [ 0.22565769  0.05930937 -0.04430763]\n",
      " [ 0.21879213  0.06025033  0.06292755]\n",
      " [ 0.16210501  0.05374033  0.11485784]]\n"
     ]
    }
   ],
   "source": [
    "print('singular value :', pca.singular_values_)\n",
    "print('singular vector :\\n', pca.components_.T)"
   ]
  },
  {
   "cell_type": "code",
   "execution_count": 87,
   "metadata": {},
   "outputs": [
    {
     "name": "stdout",
     "output_type": "stream",
     "text": [
      "eigen_value : [12.28226157 10.06229682  4.21071677]\n",
      "explained variance ratio : [0.25588006 0.20963087 0.08772313]\n"
     ]
    }
   ],
   "source": [
    "print('eigen_value :', pca.explained_variance_)\n",
    "print('explained variance ratio :', pca.explained_variance_ratio_)"
   ]
  },
  {
   "cell_type": "code",
   "execution_count": 88,
   "metadata": {},
   "outputs": [
    {
     "name": "stdout",
     "output_type": "stream",
     "text": [
      "explained variance ratio : [0.25588006 0.20963087 0.08772313]\n"
     ]
    }
   ],
   "source": [
    "print('explained variance ratio :', pca.explained_variance_ratio_)\n"
   ]
  },
  {
   "cell_type": "code",
   "execution_count": 26,
   "metadata": {},
   "outputs": [
    {
     "name": "stdout",
     "output_type": "stream",
     "text": [
      "principal component vec :\n",
      " [[-9.91682800e-17]\n",
      " [-1.11022302e-16]\n",
      " [-1.82388826e-14]\n",
      " [-3.60275469e-15]\n",
      " [-1.21106003e-16]\n",
      " [-2.06114633e-14]\n",
      " [-1.65682372e-14]\n",
      " [-1.20974761e-16]\n",
      " [-2.12186791e-14]\n",
      " [-1.69415284e-15]\n",
      " [-1.23243112e-16]\n",
      " [-1.24758020e-16]\n",
      " [-3.05501517e-18]\n",
      " [-1.36729749e-16]\n",
      " [-1.72471138e-15]\n",
      " [ 1.64142336e-16]\n",
      " [ 1.10971540e-21]\n",
      " [-1.72376208e-15]\n",
      " [-5.76619770e-18]\n",
      " [-1.57846954e-15]\n",
      " [ 1.99109210e-16]\n",
      " [-4.49217079e-21]\n",
      " [-7.36337605e-18]\n",
      " [-1.67623513e-15]\n",
      " [ 7.73265025e-17]\n",
      " [-1.12296313e-20]\n",
      " [-1.23243112e-16]\n",
      " [-9.46380987e-10]\n",
      " [ 6.20526544e-03]\n",
      " [ 6.75844584e-01]\n",
      " [-1.38801279e-14]\n",
      " [ 7.37018041e-01]\n",
      " [-9.15483174e-18]\n",
      " [-1.24889453e-16]\n",
      " [-2.07438838e-18]\n",
      " [-1.31374627e-16]\n",
      " [-7.15645358e-16]\n",
      " [-1.14908201e-16]\n",
      " [-1.93783737e-21]\n",
      " [-2.48037638e-16]\n",
      " [-2.65594073e-18]\n",
      " [-7.36531549e-16]\n",
      " [-8.23698424e-17]\n",
      " [-1.42184476e-21]\n",
      " [-1.41334671e-15]\n",
      " [-3.03827503e-18]\n",
      " [-9.41915096e-16]\n",
      " [-5.81202074e-17]]\n"
     ]
    }
   ],
   "source": [
    "pca = PCA(n_components=0.95)\n",
    "X_proj = pca.fit_transform(X_train)\n",
    "\n",
    "print('principal component vec :\\n', pca.components_.T)\n",
    "#출처: https://excelsior-cjh.tistory.com/167 [EXCELSIOR]"
   ]
  },
  {
   "cell_type": "code",
   "execution_count": 82,
   "metadata": {},
   "outputs": [
    {
     "name": "stdout",
     "output_type": "stream",
     "text": [
      "선택한 차원(픽셀) 수 : 1\n"
     ]
    }
   ],
   "source": [
    "#차원축소\n",
    "pca = PCA(n_components=1)\n",
    "X_reduced = pca.fit_transform(X_train)  # PCA 계산 후 투영\n",
    "print('선택한 차원(픽셀) 수 :', pca.n_components_)\n"
   ]
  },
  {
   "cell_type": "code",
   "execution_count": 69,
   "metadata": {
    "scrolled": true
   },
   "outputs": [
    {
     "data": {
      "text/plain": [
       "(660000, 1)"
      ]
     },
     "execution_count": 69,
     "metadata": {},
     "output_type": "execute_result"
    }
   ],
   "source": [
    "X_reduced.shape"
   ]
  },
  {
   "cell_type": "code",
   "execution_count": 52,
   "metadata": {},
   "outputs": [
    {
     "data": {
      "text/plain": [
       "array([[-4.13628420e+16, -4.53689736e+14, -6.78252035e+13,\n",
       "        -6.80071643e+08,  1.56690436e+04],\n",
       "       [-4.13905769e+16, -4.78812950e+14, -7.11523642e+13,\n",
       "         8.27484382e+08,  2.33054351e+04],\n",
       "       [-4.13730351e+16, -4.62870444e+14, -6.90406760e+13,\n",
       "        -6.80109307e+08,  1.55827291e+04],\n",
       "       ...,\n",
       "       [-4.13905769e+16, -4.78812950e+14, -7.11523647e+13,\n",
       "         8.27484895e+08,  2.79205612e+04],\n",
       "       [-4.09202969e+16, -3.19377894e+14, -5.18814935e+13,\n",
       "        -6.79242803e+08,  1.54281069e+04],\n",
       "       [-4.13654358e+16, -4.55976998e+14, -6.81276838e+13,\n",
       "        -6.80081078e+08,  1.04591831e+04]])"
      ]
     },
     "execution_count": 52,
     "metadata": {},
     "output_type": "execute_result"
    }
   ],
   "source": [
    "X_reduced"
   ]
  },
  {
   "cell_type": "code",
   "execution_count": 53,
   "metadata": {},
   "outputs": [],
   "source": [
    "#차원복원\n",
    "X_recovered = pca.inverse_transform(X_reduced)\n"
   ]
  },
  {
   "cell_type": "code",
   "execution_count": 73,
   "metadata": {},
   "outputs": [],
   "source": [
    "Y_train = pd.read_csv('row_Y.csv', delimiter = ',')\n",
    "Y_train = pd.factorize(Y_train.x)[0]"
   ]
  },
  {
   "cell_type": "code",
   "execution_count": 55,
   "metadata": {},
   "outputs": [
    {
     "name": "stderr",
     "output_type": "stream",
     "text": [
      "C:\\ProgramData\\Anaconda3\\lib\\site-packages\\sklearn\\linear_model\\logistic.py:433: FutureWarning: Default solver will be changed to 'lbfgs' in 0.22. Specify a solver to silence this warning.\n",
      "  FutureWarning)\n",
      "C:\\ProgramData\\Anaconda3\\lib\\site-packages\\sklearn\\utils\\validation.py:761: DataConversionWarning: A column-vector y was passed when a 1d array was expected. Please change the shape of y to (n_samples, ), for example using ravel().\n",
      "  y = column_or_1d(y, warn=True)\n"
     ]
    },
    {
     "data": {
      "text/plain": [
       "0.14845"
      ]
     },
     "execution_count": 55,
     "metadata": {},
     "output_type": "execute_result"
    }
   ],
   "source": [
    "from sklearn.linear_model import LogisticRegression\n",
    "\n",
    "log_clf = LogisticRegression() \n",
    "log_clf.fit(X_reduced,Y_train) \n",
    "log_clf.score(X_reduced, Y_train)"
   ]
  },
  {
   "cell_type": "code",
   "execution_count": 56,
   "metadata": {},
   "outputs": [],
   "source": [
    "import tensorflow\n",
    "from tensorflow.keras.models import Sequential\n",
    "from tensorflow.keras.layers import Dense, Activation\n",
    "\n",
    "# Helper libraries\n",
    "import numpy as np\n",
    "import matplotlib.pyplot as plt\n",
    "\n",
    "from sklearn.preprocessing import StandardScaler\n",
    "\n"
   ]
  },
  {
   "cell_type": "code",
   "execution_count": 83,
   "metadata": {},
   "outputs": [
    {
     "name": "stdout",
     "output_type": "stream",
     "text": [
      "_________________________________________________________________\n",
      "Layer (type)                 Output Shape              Param #   \n",
      "=================================================================\n",
      "dense_11 (Dense)             (None, 3)                 6         \n",
      "_________________________________________________________________\n",
      "dense_12 (Dense)             (None, 11)                44        \n",
      "=================================================================\n",
      "Total params: 50\n",
      "Trainable params: 50\n",
      "Non-trainable params: 0\n",
      "_________________________________________________________________\n"
     ]
    }
   ],
   "source": [
    "model = Sequential()\n",
    "model.add(Dense(1, input_shape=[1], activation = 'relu'))\n",
    "model.add(Dense(11, activation='softmax'))\n",
    "model.compile(optimizer = 'adam', loss='sparse_categorical_crossentropy', metrics=['accuracy'])\n",
    "model.summary()"
   ]
  },
  {
   "cell_type": "code",
   "execution_count": 84,
   "metadata": {},
   "outputs": [
    {
     "name": "stdout",
     "output_type": "stream",
     "text": [
      "660000/660000 [==============================] - 60s 90us/sample - loss: 1.5478 - acc: 0.3785s - l\n"
     ]
    },
    {
     "data": {
      "text/plain": [
       "<tensorflow.python.keras.callbacks.History at 0x2c684f9ea90>"
      ]
     },
     "execution_count": 84,
     "metadata": {},
     "output_type": "execute_result"
    }
   ],
   "source": [
    "model.fit(X_reduced, Y_train, epochs=1) # 차원개수 1"
   ]
  },
  {
   "cell_type": "code",
   "execution_count": null,
   "metadata": {},
   "outputs": [],
   "source": [
    "model.fit(X_reduced, Y_train, epochs=1) # 차원개수 1개"
   ]
  }
 ],
 "metadata": {
  "kernelspec": {
   "display_name": "Python 3",
   "language": "python",
   "name": "python3"
  },
  "language_info": {
   "codemirror_mode": {
    "name": "ipython",
    "version": 3
   },
   "file_extension": ".py",
   "mimetype": "text/x-python",
   "name": "python",
   "nbconvert_exporter": "python",
   "pygments_lexer": "ipython3",
   "version": "3.7.1"
  }
 },
 "nbformat": 4,
 "nbformat_minor": 2
}
