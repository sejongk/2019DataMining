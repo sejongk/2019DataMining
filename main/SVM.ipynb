{
 "cells": [
  {
   "cell_type": "code",
   "execution_count": 1,
   "metadata": {},
   "outputs": [],
   "source": [
    "from thundersvm import SVC"
   ]
  },
  {
   "cell_type": "code",
   "execution_count": 19,
   "metadata": {},
   "outputs": [],
   "source": [
    "import pandas as pd \n",
    "from sklearn.preprocessing import StandardScaler\n",
    "from sklearn.model_selection import train_test_split\n",
    "\n",
    "import matplotlib.pyplot as plt\n",
    "import numpy as np\n",
    "\n",
    "from sklearn.externals import joblib \n",
    "from sklearn.preprocessing import StandardScaler\n",
    "from sklearn.metrics import confusion_matrix\n",
    "from sklearn.metrics import accuracy_score\n"
   ]
  },
  {
   "cell_type": "code",
   "execution_count": 8,
   "metadata": {},
   "outputs": [],
   "source": [
    "import pandas as pd \n",
    "X_train1 = pd.read_csv('mul_3_10000_X.csv', delimiter = ',')\n",
    "Y_train1 = pd.read_csv('mul_3_10000_Y.csv', delimiter = ',')\n",
    "#X_train2 = pd.read_csv('bi_3_X.csv', delimiter = ',')\n",
    "#Y_train2 = pd.read_csv('bi_3_Y.csv', delimiter = ',')"
   ]
  },
  {
   "cell_type": "code",
   "execution_count": 9,
   "metadata": {},
   "outputs": [],
   "source": [
    "X_train1 = X_train1.iloc[:,1:]\n",
    "Y_train1 = Y_train1.iloc[:,1]\n",
    "Y_train1 = pd.factorize(Y_train1)[0]"
   ]
  },
  {
   "cell_type": "code",
   "execution_count": 9,
   "metadata": {},
   "outputs": [],
   "source": [
    "X_train2 = X_train2.iloc[:,1:]\n",
    "Y_train2 = Y_train2.iloc[:,1]\n",
    "Y_train2 = pd.factorize(Y_train2)[0]"
   ]
  },
  {
   "cell_type": "code",
   "execution_count": 10,
   "metadata": {},
   "outputs": [
    {
     "name": "stderr",
     "output_type": "stream",
     "text": [
      "C:\\ProgramData\\Anaconda3\\lib\\site-packages\\sklearn\\preprocessing\\data.py:625: DataConversionWarning: Data with input dtype int64, float64 were all converted to float64 by StandardScaler.\n",
      "  return self.partial_fit(X, y)\n",
      "C:\\ProgramData\\Anaconda3\\lib\\site-packages\\sklearn\\base.py:462: DataConversionWarning: Data with input dtype int64, float64 were all converted to float64 by StandardScaler.\n",
      "  return self.fit(X, **fit_params).transform(X)\n"
     ]
    }
   ],
   "source": [
    "X_train1 = StandardScaler().fit_transform(X_train1)"
   ]
  },
  {
   "cell_type": "code",
   "execution_count": 11,
   "metadata": {},
   "outputs": [
    {
     "name": "stderr",
     "output_type": "stream",
     "text": [
      "C:\\ProgramData\\Anaconda3\\lib\\site-packages\\sklearn\\preprocessing\\data.py:625: DataConversionWarning: Data with input dtype int64, float64 were all converted to float64 by StandardScaler.\n",
      "  return self.partial_fit(X, y)\n",
      "C:\\ProgramData\\Anaconda3\\lib\\site-packages\\sklearn\\base.py:462: DataConversionWarning: Data with input dtype int64, float64 were all converted to float64 by StandardScaler.\n",
      "  return self.fit(X, **fit_params).transform(X)\n"
     ]
    }
   ],
   "source": [
    "X_train2 = StandardScaler().fit_transform(X_train2)"
   ]
  },
  {
   "cell_type": "code",
   "execution_count": 12,
   "metadata": {},
   "outputs": [],
   "source": [
    "from sklearn.model_selection import train_test_split\n",
    "x_train1, x_test1, y_train1, y_test1 = train_test_split( X_train1 , Y_train1, test_size=0.1, random_state=42)\n",
    "#x_train2, x_test2, y_train2, y_test2 = train_test_split( X_train2 , Y_train2, test_size=0.2, random_state=42)"
   ]
  },
  {
   "cell_type": "code",
   "execution_count": 13,
   "metadata": {},
   "outputs": [
    {
     "data": {
      "text/plain": [
       "(9900, 48)"
      ]
     },
     "execution_count": 13,
     "metadata": {},
     "output_type": "execute_result"
    }
   ],
   "source": [
    "x_train1.shape"
   ]
  },
  {
   "cell_type": "code",
   "execution_count": null,
   "metadata": {},
   "outputs": [],
   "source": [
    "model1 = SVC(kernel='rbf', C= 10, random_state=0, gamma=0.1 )\n",
    "model1.fit(x_train1, y_train1)\n",
    "model1.save_to_file('./mul_3_10000')"
   ]
  },
  {
   "cell_type": "code",
   "execution_count": 14,
   "metadata": {},
   "outputs": [],
   "source": [
    "model1 = SVC(kernel='rbf', C= 10, random_state=0, gamma=0.01 )\n",
    "model1.fit(x_train1, y_train1)\n",
    "model1.save_to_file('./mul_3_10000')\n",
    "model1_test_acc(model1)"
   ]
  },
  {
   "cell_type": "code",
   "execution_count": 16,
   "metadata": {},
   "outputs": [],
   "source": [
    "y_pred=model1.predict(x_test1)"
   ]
  },
  {
   "cell_type": "code",
   "execution_count": 21,
   "metadata": {},
   "outputs": [
    {
     "name": "stdout",
     "output_type": "stream",
     "text": [
      "Accuracy: 0.87\n"
     ]
    }
   ],
   "source": [
    "print('Accuracy: %.2f' % accuracy_score(y_test1, y_pred))"
   ]
  },
  {
   "cell_type": "code",
   "execution_count": 17,
   "metadata": {},
   "outputs": [
    {
     "data": {
      "text/plain": [
       "array([[ 97,   0,   0,   0,   0,   0,   0,   0,   0,   0,   0],\n",
       "       [  0,  97,   0,   0,   0,   0,   0,   0,   0,   0,   0],\n",
       "       [  0,   0,  89,   6,   0,   0,   0,   0,   0,   0,   0],\n",
       "       [  0,   0,  13,  99,   0,   0,   0,   0,   0,   0,   0],\n",
       "       [  0,   0,   0,   0, 106,   0,   0,   0,   0,   0,   0],\n",
       "       [  0,   0,   0,   0,   0, 101,   0,   0,   0,   0,   0],\n",
       "       [  0,   0,   0,   0,   0,   0,  90,   0,   0,   0,   0],\n",
       "       [  0,   0,   0,   0,   0,   0,   0,   0,  88,   0,   0],\n",
       "       [  0,   0,   0,   0,   0,   0,   0,   0, 100,   0,   0],\n",
       "       [ 17,   0,   0,   0,   0,   0,   0,   0,   0,  71,  17],\n",
       "       [  0,   0,   0,   0,   0,   0,   0,   0,   0,   6, 103]],\n",
       "      dtype=int64)"
      ]
     },
     "execution_count": 17,
     "metadata": {},
     "output_type": "execute_result"
    }
   ],
   "source": [
    "confusion_matrix(y_test1,y_pred)"
   ]
  },
  {
   "cell_type": "code",
   "execution_count": 23,
   "metadata": {},
   "outputs": [],
   "source": [
    "y_pred=model1.predict(x_test1)"
   ]
  },
  {
   "cell_type": "code",
   "execution_count": 24,
   "metadata": {},
   "outputs": [
    {
     "name": "stdout",
     "output_type": "stream",
     "text": [
      "Accuracy: 0.89\n"
     ]
    },
    {
     "data": {
      "text/plain": [
       "array([[ 97,   0,   0,   0,   0,   0,   0,   0,   0,   0,   0],\n",
       "       [  0,  97,   0,   0,   0,   0,   0,   0,   0,   0,   0],\n",
       "       [  0,   0,  88,   7,   0,   0,   0,   0,   0,   0,   0],\n",
       "       [  0,   0,   5, 107,   0,   0,   0,   0,   0,   0,   0],\n",
       "       [  0,   0,   0,   0, 106,   0,   0,   0,   0,   0,   0],\n",
       "       [  0,   0,   0,   0,   0, 101,   0,   0,   0,   0,   0],\n",
       "       [  0,   0,   0,   0,   0,   0,  90,   0,   0,   0,   0],\n",
       "       [  0,   0,   0,   0,   0,   0,   0,   0,  88,   0,   0],\n",
       "       [  0,   0,   0,   0,   0,   0,   0,   0, 100,   0,   0],\n",
       "       [  1,   0,   0,   0,   0,   0,   0,   0,   0,  86,  18],\n",
       "       [  0,   0,   0,   0,   0,   0,   0,   0,   0,   4, 105]],\n",
       "      dtype=int64)"
      ]
     },
     "execution_count": 24,
     "metadata": {},
     "output_type": "execute_result"
    }
   ],
   "source": [
    "print('Accuracy: %.2f' % accuracy_score(y_test1, y_pred))\n",
    "confusion_matrix(y_test1,y_pred)"
   ]
  },
  {
   "cell_type": "code",
   "execution_count": 12,
   "metadata": {
    "scrolled": true
   },
   "outputs": [
    {
     "data": {
      "text/plain": [
       "SVC(C=10, cache_size=None, class_weight={}, coef0=0.0,\n",
       "  decision_function_shape='ovo', degree=3, gamma=0.01, gpu_id=0,\n",
       "  kernel='rbf', max_iter=-1, max_mem_size=-1, n_jobs=-1, probability=False,\n",
       "  random_state=0, shrinking=False, tol=0.001, verbose=False)"
      ]
     },
     "execution_count": 12,
     "metadata": {},
     "output_type": "execute_result"
    }
   ],
   "source": [
    "model1 = SVC(kernel='rbf', C= 10, random_state=0, gamma=0.01 )\n",
    "model1.fit(x_train1, y_train1)\n",
    "#model1_test_acc(model1)"
   ]
  },
  {
   "cell_type": "code",
   "execution_count": 22,
   "metadata": {},
   "outputs": [],
   "source": [
    "model1.save_to_file('./model1')"
   ]
  },
  {
   "cell_type": "code",
   "execution_count": 13,
   "metadata": {
    "scrolled": true
   },
   "outputs": [
    {
     "data": {
      "text/plain": [
       "SVC(C=1, cache_size=None, class_weight={}, coef0=0.0,\n",
       "  decision_function_shape='ovo', degree=3, gamma=0.01, gpu_id=0,\n",
       "  kernel='rbf', max_iter=-1, max_mem_size=-1, n_jobs=-1, probability=False,\n",
       "  random_state=0, shrinking=False, tol=0.001, verbose=False)"
      ]
     },
     "execution_count": 13,
     "metadata": {},
     "output_type": "execute_result"
    }
   ],
   "source": [
    "model2 = SVC(kernel='rbf', C= 1, random_state=0, gamma=0.01 )\n",
    "model2.fit(x_train1, y_train1)"
   ]
  },
  {
   "cell_type": "code",
   "execution_count": 23,
   "metadata": {},
   "outputs": [],
   "source": [
    "model2.save_to_file(\"./model2\")"
   ]
  },
  {
   "cell_type": "code",
   "execution_count": null,
   "metadata": {},
   "outputs": [],
   "source": [
    "model3 = SVC(kernel='rbf', C= 10, random_state=0, gamma=0.01 )\n",
    "model3.fit(x_train2, y_train2)"
   ]
  },
  {
   "cell_type": "code",
   "execution_count": 5,
   "metadata": {},
   "outputs": [],
   "source": [
    "test = SVC(probability=True)\n",
    "test.load_from_file(\"./model2\")"
   ]
  },
  {
   "cell_type": "code",
   "execution_count": null,
   "metadata": {},
   "outputs": [],
   "source": [
    "model4 = SVC(kernel='rbf', C= 1, random_state=0, gamma=0.01 )\n",
    "model4.fit(x_train2, y_train2)"
   ]
  },
  {
   "cell_type": "code",
   "execution_count": 28,
   "metadata": {},
   "outputs": [
    {
     "data": {
      "text/plain": [
       "SVC(C=10, cache_size=None, class_weight={}, coef0=0.0,\n",
       "  decision_function_shape='ovo', degree=3, gamma=0.001, gpu_id=0,\n",
       "  kernel='rbf', max_iter=-1, max_mem_size=-1, n_jobs=-1, probability=False,\n",
       "  random_state=0, shrinking=False, tol=0.001, verbose=False)"
      ]
     },
     "execution_count": 28,
     "metadata": {},
     "output_type": "execute_result"
    }
   ],
   "source": [
    "model = SVC(kernel='rbf', C= 10, random_state=0, gamma=0.001 )\n",
    "# linear, rbf, poly\n",
    "#model.fit(x_train, y_train.values.ravel())\n",
    "model.fit(x_train, y_train)"
   ]
  },
  {
   "cell_type": "code",
   "execution_count": 29,
   "metadata": {},
   "outputs": [
    {
     "name": "stdout",
     "output_type": "stream",
     "text": [
      "Accuracy: 0.50\n",
      "[[    0 45058]\n",
      " [    0 44942]]\n"
     ]
    }
   ],
   "source": [
    "model_test_acc(model)"
   ]
  },
  {
   "cell_type": "code",
   "execution_count": 30,
   "metadata": {},
   "outputs": [
    {
     "name": "stdout",
     "output_type": "stream",
     "text": [
      "Accuracy: 0.50\n",
      "[[    0 45058]\n",
      " [    0 44942]]\n"
     ]
    }
   ],
   "source": [
    "model = SVC(kernel='rbf', C= 10, random_state=0, gamma=0.01 )\n",
    "model.fit(x_train, y_train)\n",
    "model_test_acc(model)"
   ]
  },
  {
   "cell_type": "code",
   "execution_count": 31,
   "metadata": {},
   "outputs": [
    {
     "name": "stdout",
     "output_type": "stream",
     "text": [
      "Accuracy: 0.50\n",
      "[[    0 45058]\n",
      " [    0 44942]]\n"
     ]
    }
   ],
   "source": [
    "model = SVC(kernel='rbf', C= 10, random_state=0, gamma=0.1 )\n",
    "model.fit(x_train, y_train)\n",
    "model_test_acc(model)"
   ]
  }
 ],
 "metadata": {
  "kernelspec": {
   "display_name": "Python 3",
   "language": "python",
   "name": "python3"
  },
  "language_info": {
   "codemirror_mode": {
    "name": "ipython",
    "version": 3
   },
   "file_extension": ".py",
   "mimetype": "text/x-python",
   "name": "python",
   "nbconvert_exporter": "python",
   "pygments_lexer": "ipython3",
   "version": "3.7.3"
  }
 },
 "nbformat": 4,
 "nbformat_minor": 2
}
