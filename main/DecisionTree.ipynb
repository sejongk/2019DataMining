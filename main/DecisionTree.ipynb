{
 "cells": [
  {
   "cell_type": "code",
   "execution_count": 3,
   "metadata": {},
   "outputs": [],
   "source": [
    "import pandas as pd \n",
    "from sklearn.preprocessing import StandardScaler\n",
    "from sklearn.model_selection import train_test_split\n",
    "\n",
    "import matplotlib.pyplot as plt\n",
    "import numpy as np\n",
    "\n",
    "import pydot\n",
    "from sklearn.metrics import confusion_matrix"
   ]
  },
  {
   "cell_type": "code",
   "execution_count": 4,
   "metadata": {},
   "outputs": [],
   "source": [
    "from sklearn.tree import DecisionTreeClassifier\n",
    "from sklearn import tree"
   ]
  },
  {
   "cell_type": "code",
   "execution_count": 89,
   "metadata": {},
   "outputs": [],
   "source": [
    "X_train = pd.read_csv('mul_5_X.csv', delimiter = ',')\n",
    "Y_train = pd.read_csv('mul_5_Y.csv', delimiter = ',')"
   ]
  },
  {
   "cell_type": "code",
   "execution_count": 90,
   "metadata": {
    "scrolled": true
   },
   "outputs": [],
   "source": [
    "X_train = X_train.iloc[:,1:]\n",
    "Y_train = Y_train.iloc[:,1]\n",
    "Y_train = pd.factorize(Y_train)[0]"
   ]
  },
  {
   "cell_type": "code",
   "execution_count": 97,
   "metadata": {},
   "outputs": [
    {
     "name": "stderr",
     "output_type": "stream",
     "text": [
      "C:\\ProgramData\\Anaconda3\\lib\\site-packages\\sklearn\\preprocessing\\data.py:625: DataConversionWarning: Data with input dtype int64, float64 were all converted to float64 by StandardScaler.\n",
      "  return self.partial_fit(X, y)\n",
      "C:\\ProgramData\\Anaconda3\\lib\\site-packages\\sklearn\\base.py:462: DataConversionWarning: Data with input dtype int64, float64 were all converted to float64 by StandardScaler.\n",
      "  return self.fit(X, **fit_params).transform(X)\n"
     ]
    }
   ],
   "source": [
    "X_train = StandardScaler().fit_transform(X_train)"
   ]
  },
  {
   "cell_type": "code",
   "execution_count": 98,
   "metadata": {},
   "outputs": [],
   "source": [
    "from sklearn.model_selection import train_test_split\n",
    "x_train, x_test, y_train, y_test = train_test_split( X_train , Y_train, test_size=0.1, random_state=42)"
   ]
  },
  {
   "cell_type": "code",
   "execution_count": 99,
   "metadata": {
    "scrolled": false
   },
   "outputs": [
    {
     "data": {
      "text/plain": [
       "((591792, 48), (591792,))"
      ]
     },
     "execution_count": 99,
     "metadata": {},
     "output_type": "execute_result"
    }
   ],
   "source": [
    "x_train.shape, y_train.shape"
   ]
  },
  {
   "cell_type": "code",
   "execution_count": 88,
   "metadata": {},
   "outputs": [
    {
     "data": {
      "text/plain": [
       "(65755, 48)"
      ]
     },
     "execution_count": 88,
     "metadata": {},
     "output_type": "execute_result"
    }
   ],
   "source": [
    "x_test.shape"
   ]
  },
  {
   "cell_type": "code",
   "execution_count": 15,
   "metadata": {},
   "outputs": [],
   "source": [
    "structure = pd.read_csv('structure.csv', delimiter = ',', header=0)"
   ]
  },
  {
   "cell_type": "code",
   "execution_count": 100,
   "metadata": {},
   "outputs": [],
   "source": [
    "model1 = DecisionTreeClassifier(random_state=0, criterion='entropy')\n",
    "clf1 = model1.fit(x_train,y_train)"
   ]
  },
  {
   "cell_type": "code",
   "execution_count": 101,
   "metadata": {},
   "outputs": [
    {
     "data": {
      "image/png": "[encoded data removed]",
      "text/plain": [
       "<Figure size 432x288 with 1 Axes>"
      ]
     },
     "metadata": {
      "needs_background": "light"
     },
     "output_type": "display_data"
    }
   ],
   "source": [
    "plot_feature_importances2(model1)"
   ]
  },
  {
   "cell_type": "code",
   "execution_count": 86,
   "metadata": {
    "scrolled": false
   },
   "outputs": [
    {
     "name": "stdout",
     "output_type": "stream",
     "text": [
      "Accuracy: 0.91\n",
      "[[5957    0    0    0    0    0    0    0    0    0    0]\n",
      " [   0 5773    0    0    0    0    0    0    0    0    0]\n",
      " [   0    0 5982    0    0    0    0    0    0    0    0]\n",
      " [   0    0    0 5989    0    0    0    0    0    0    0]\n",
      " [   0    0    0    0 5942    0    0    0    0    0    0]\n",
      " [   0    0    0    0    0 6009    0    0    0    0    0]\n",
      " [   0    0    0    0    0    0 6080    0    0    0    0]\n",
      " [   0    0    0    0    0    0    0    0 6099    0    0]\n",
      " [   0    0    0    0    0    0    0    0 5979    0    0]\n",
      " [   0    0    0    0    0    0    0    0    0 5876    0]\n",
      " [   0    0    0    0    0    0    0    0    0    0 6069]]\n"
     ]
    }
   ],
   "source": [
    "model_test_acc(clf1)"
   ]
  },
  {
   "cell_type": "code",
   "execution_count": null,
   "metadata": {},
   "outputs": [],
   "source": [
    "mul_tree_graph(clf1,struct1,\"bi_1.png\")"
   ]
  },
  {
   "cell_type": "code",
   "execution_count": 140,
   "metadata": {},
   "outputs": [],
   "source": [
    "model2 = DecisionTreeClassifier(random_state=0, criterion='gini')\n",
    "clf2 = model2.fit(x_train,y_train)"
   ]
  },
  {
   "cell_type": "code",
   "execution_count": 141,
   "metadata": {},
   "outputs": [
    {
     "name": "stdout",
     "output_type": "stream",
     "text": [
      "Accuracy: 0.91\n",
      "[[3038    0    0    0    0    0    0    0    0    0    0]\n",
      " [   0 2964    0    0    0    1    0    0    0    0    0]\n",
      " [   0    1 2962    1    0    0    0    0    0    0    0]\n",
      " [   0    0    0 2980    0    0    0    0    0    0    0]\n",
      " [   0    0    0    0 3034    0    0    0    0    0    0]\n",
      " [   0    0    0    0    0 3033    0    0    0    0    0]\n",
      " [   0    0    0    0    0    0 2993    0    0    0    0]\n",
      " [   0    0    0    0    0    0    0 2894    0    0    0]\n",
      " [   0    0    0    0    0    0    0 3042    5    0    0]\n",
      " [   0    0    0    0    0    0    0    0    0 2948    1]\n",
      " [   0    0    0    0    0    0    0    0    0    0 3103]]\n"
     ]
    }
   ],
   "source": [
    "model_test_acc(clf2)"
   ]
  },
  {
   "cell_type": "code",
   "execution_count": 82,
   "metadata": {},
   "outputs": [],
   "source": [
    "model3 = DecisionTreeClassifier(max_depth=4, random_state=0)\n",
    "clf3 = model3.fit(x_train,y_train)"
   ]
  },
  {
   "cell_type": "code",
   "execution_count": 83,
   "metadata": {},
   "outputs": [],
   "source": [
    "model4 = DecisionTreeClassifier(max_depth=5, random_state=0)\n",
    "clf4 = model4.fit(x_train,y_train)"
   ]
  },
  {
   "cell_type": "code",
   "execution_count": 84,
   "metadata": {},
   "outputs": [
    {
     "name": "stdout",
     "output_type": "stream",
     "text": [
      "Accuracy: 1.00\n",
      "[[3034    0    0    0    0    0    0    0    0    2    2]\n",
      " [   0 2964    0    0    0    1    0    0    0    0    0]\n",
      " [   0    0 2963    1    0    0    0    0    0    0    0]\n",
      " [   0    0    1 2979    0    0    0    0    0    0    0]\n",
      " [   0    0    0    0 3034    0    0    0    0    0    0]\n",
      " [   0    0    0    0    0 3033    0    0    0    0    0]\n",
      " [   0    0    0    0    0    0 2993    0    0    0    0]\n",
      " [   0    1    0    0    0    0    0 2849   44    0    0]\n",
      " [   0    1    0    0    0    0    0    0 3045    0    1]\n",
      " [   1    0    0    0    0    0    0    0    0 2946    2]\n",
      " [   0    1    0    0    0    0    0    0    0    0 3102]]\n",
      "Accuracy: 1.00\n",
      "[[3038    0    0    0    0    0    0    0    0    0    0]\n",
      " [   0 2962    0    0    0    0    0    2    1    0    0]\n",
      " [   0    1 2960    3    0    0    0    0    0    0    0]\n",
      " [   0    0    2 2978    0    0    0    0    0    0    0]\n",
      " [   0    0    0    0 3034    0    0    0    0    0    0]\n",
      " [   0    0    0    0    0 3033    0    0    0    0    0]\n",
      " [   0    0    0    0    0    0 2993    0    0    0    0]\n",
      " [   0    0    0    0    0    0    0 2849   44    0    1]\n",
      " [   0    1    0    0    0    0    0    1 3045    0    0]\n",
      " [   0    0    0    0    0    0    0    0    0 2948    1]\n",
      " [   0    0    0    0    0    0    0    0    0    0 3103]]\n",
      "Accuracy: 0.54\n",
      "[[   0    0    0    0    0    0    0    0    0 3038    0]\n",
      " [   0 2957    0    0    1    0    0    0    0    7    0]\n",
      " [   0    1    0    0    0    0    0    0    0 2963    0]\n",
      " [   0    3    0    0    0    0    0    0    0 2977    0]\n",
      " [   0    0    0    0    3    0    0    0    0 3031    0]\n",
      " [   0    0    0    0    1 3032    0    0    0    0    0]\n",
      " [   0    0    0    0    0    1 2992    0    0    0    0]\n",
      " [   0    2    0    0    0    0    0 2848   44    0    0]\n",
      " [   0    6    0    0    0    0    0    0 3041    0    0]\n",
      " [   0    0    0    0    0    0    0    0    0 2949    0]\n",
      " [   0    0    0    0    0    0    0    0    0 3103    0]]\n",
      "Accuracy: 0.63\n",
      "[[   0    0    0    0    0    0    0    0    0 3038    0]\n",
      " [   0 2958    0    0    0    0    0    0    0    7    0]\n",
      " [   0    1 2963    0    0    0    0    0    0    0    0]\n",
      " [   0    3 2977    0    0    0    0    0    0    0    0]\n",
      " [   0    0 3031    0    3    0    0    0    0    0    0]\n",
      " [   0    1    0    0    0 3032    0    0    0    0    0]\n",
      " [   0    0    0    0    0    0 2993    0    0    0    0]\n",
      " [   0    2    0    0    0    0    0 2848   44    0    0]\n",
      " [   0    6    0    0    0    0    0    0 3041    0    0]\n",
      " [   0    0    0    0    0    0    0    0    0 2949    0]\n",
      " [   0    0    0    0    0    0    0    0    0 3103    0]]\n"
     ]
    },
    {
     "data": {
      "text/plain": [
       "(None, None, None, None)"
      ]
     },
     "execution_count": 84,
     "metadata": {},
     "output_type": "execute_result"
    }
   ],
   "source": [
    "model_test_acc(clf1), model_test_acc(clf2), model_test_acc(clf3), model_test_acc(clf4)"
   ]
  },
  {
   "cell_type": "code",
   "execution_count": 95,
   "metadata": {},
   "outputs": [],
   "source": [
    "\n",
    "def plot_feature_importances1(model):\n",
    "    struct=[i for i in structure.iloc[0,0:115]]\n",
    "    feature_import_index = [i for i in range(0,115) if(model.feature_importances_[i]>=0.01) ]\n",
    "    feature_importance = [model.feature_importances_[i] for i in feature_import_index ]\n",
    "    important_struct = [struct[i] for i in feature_import_index]\n",
    "    plt.barh(range(0,len(feature_importance)), feature_importance, align='center')\n",
    "    plt.yticks(np.arange(len(feature_importance)), important_struct)\n",
    "    plt.xlabel(\"Feature importance\")\n",
    "    plt.ylabel(\"feature\")\n",
    "    #plt.ylim(-1, n_features)\n",
    "\n",
    "def plot_feature_importances2(model):\n",
    "    struct=[i for i in structure.iloc[1,0:48]]\n",
    "    feature_import_index = [i for i in range(0,48) if(model.feature_importances_[i]>=0.01) ]\n",
    "    feature_importance = [model.feature_importances_[i] for i in feature_import_index ]\n",
    "    important_struct = [struct[i] for i in feature_import_index]\n",
    "    plt.barh(range(0,len(feature_importance)), feature_importance, align='center')\n",
    "    plt.yticks(np.arange(len(feature_importance)), important_struct)\n",
    "    plt.xlabel(\"Feature importance\")\n",
    "    plt.ylabel(\"feature\")\n",
    "    #plt.ylim(-1, n_features)\n"
   ]
  },
  {
   "cell_type": "code",
   "execution_count": 19,
   "metadata": {
    "scrolled": true
   },
   "outputs": [
    {
     "data": {
      "image/png": "[encoded data removed]",
      "text/plain": [
       "<Figure size 432x288 with 1 Axes>"
      ]
     },
     "metadata": {
      "needs_background": "light"
     },
     "output_type": "display_data"
    }
   ],
   "source": [
    "plot_feature_importances2(clf1) #big raw"
   ]
  },
  {
   "cell_type": "code",
   "execution_count": 20,
   "metadata": {},
   "outputs": [
    {
     "data": {
      "image/png": "[encoded data removed]",
      "text/plain": [
       "<Figure size 432x288 with 1 Axes>"
      ]
     },
     "metadata": {
      "needs_background": "light"
     },
     "output_type": "display_data"
    }
   ],
   "source": [
    "plot_feature_importances2(clf2) #big raw"
   ]
  },
  {
   "cell_type": "code",
   "execution_count": 21,
   "metadata": {},
   "outputs": [
    {
     "data": {
      "image/png": "[encoded data removed]",
      "text/plain": [
       "<Figure size 432x288 with 1 Axes>"
      ]
     },
     "metadata": {
      "needs_background": "light"
     },
     "output_type": "display_data"
    }
   ],
   "source": [
    "plot_feature_importances2(clf3) #big raw"
   ]
  },
  {
   "cell_type": "markdown",
   "metadata": {},
   "source": [
    "# 트리 시각화"
   ]
  },
  {
   "cell_type": "code",
   "execution_count": 72,
   "metadata": {},
   "outputs": [],
   "source": [
    "from sklearn.tree import export_graphviz\n",
    "\n",
    "def bi_tree_graph(model,struct,name):\n",
    "    export_graphviz(model, out_file=\"tree.dot\", impurity=False, filled=True, feature_names = struct\n",
    "                , class_names = ['attack','benign'])\n",
    "    (graph,)= pydot.graph_from_dot_file('tree.dot',encoding='utf8')\n",
    "    graph.write_png(name)\n",
    "def mul_tree_graph(model,struct,name):\n",
    "    export_graphviz(model, out_file=\"tree.dot\", impurity=False, filled=True, feature_names = struct\n",
    "                , class_names = ['ack','benign','combo','junk','scan1','scan2','syn','tcp','udp1','udp2','udpplain'])\n",
    "    (graph,)= pydot.graph_from_dot_file('tree.dot',encoding='utf8')\n",
    "    graph.write_png(name)"
   ]
  },
  {
   "cell_type": "code",
   "execution_count": 10,
   "metadata": {},
   "outputs": [],
   "source": [
    "from sklearn.metrics import accuracy_score\n",
    "from sklearn.metrics import confusion_matrix\n",
    "def model_test_acc(model):\n",
    "    y_pred = model.predict(x_test)\n",
    "    print('Accuracy: %.2f' % accuracy_score(y_test, y_pred))\n",
    "    print(confusion_matrix(y_test, y_pred))  \n"
   ]
  },
  {
   "cell_type": "code",
   "execution_count": 37,
   "metadata": {},
   "outputs": [
    {
     "name": "stdout",
     "output_type": "stream",
     "text": [
      "Accuracy: 1.00\n",
      "[[59914     0]\n",
      " [    0 49525]]\n"
     ]
    }
   ],
   "source": [
    "model_test_acc(clf1)"
   ]
  },
  {
   "cell_type": "code",
   "execution_count": 25,
   "metadata": {},
   "outputs": [
    {
     "name": "stdout",
     "output_type": "stream",
     "text": [
      "Accuracy: 1.00\n",
      "[[29945     0]\n",
      " [    0 24775]]\n"
     ]
    }
   ],
   "source": [
    "model_test_acc(clf2)"
   ]
  },
  {
   "cell_type": "code",
   "execution_count": 26,
   "metadata": {},
   "outputs": [
    {
     "name": "stdout",
     "output_type": "stream",
     "text": [
      "Accuracy: 0.99\n",
      "[[29945     0]\n",
      " [  454 24321]]\n"
     ]
    }
   ],
   "source": [
    "model_test_acc(clf3)"
   ]
  },
  {
   "cell_type": "code",
   "execution_count": 27,
   "metadata": {},
   "outputs": [
    {
     "data": {
      "image/png": "[encoded data removed]",
      "text/plain": [
       "<Figure size 432x288 with 1 Axes>"
      ]
     },
     "metadata": {
      "needs_background": "light"
     },
     "output_type": "display_data"
    }
   ],
   "source": [
    "plot_feature_importances2(clf1)"
   ]
  },
  {
   "cell_type": "code",
   "execution_count": 157,
   "metadata": {},
   "outputs": [
    {
     "data": {
      "image/png": "[encoded data removed]",
      "text/plain": [
       "<Figure size 432x288 with 1 Axes>"
      ]
     },
     "metadata": {
      "needs_background": "light"
     },
     "output_type": "display_data"
    }
   ],
   "source": [
    "plot_feature_importances2(clf3)"
   ]
  },
  {
   "cell_type": "code",
   "execution_count": 16,
   "metadata": {},
   "outputs": [],
   "source": [
    "struct1=[i for i in structure.iloc[0,0:115]]\n",
    "struct2=[i for i in structure.iloc[1,0:48]]"
   ]
  },
  {
   "cell_type": "code",
   "execution_count": 75,
   "metadata": {},
   "outputs": [],
   "source": [
    "mul_tree_graph(clf1,struct1,\"dt_dim3.png\")\n",
    "bi_tree_graph(clf3,struct2,\"dt_dim2.png\")"
   ]
  },
  {
   "cell_type": "code",
   "execution_count": 165,
   "metadata": {
    "scrolled": true
   },
   "outputs": [
    {
     "name": "stdout",
     "output_type": "stream",
     "text": [
      "Accuracy: 1.00\n",
      "[[17978     0     0     0     0     0     0     0     0     2     0]\n",
      " [    0 17205     0     0     0     0     0     0     0     0     0]\n",
      " [    0     0 17996     0     0     0     0     0     0     0     0]\n",
      " [    0     0     1 18038     0     0     0     0     0     0     0]\n",
      " [    0     0     0     0 17801     0     0     0     0     0     0]\n",
      " [    0     0     0     0     0 17831     0     0     0     0     0]\n",
      " [    0     0     0     0     0     0 18032     0     0     0     0]\n",
      " [    0     0     0     0     0     0     0 17890   304     0     0]\n",
      " [    0     0     0     0     0     0     0     0 17948     0     0]\n",
      " [    0     0     0     0     0     0     0     0     0 18052     0]\n",
      " [    0     0     0     0     0     0     0     0     0     0 18187]]\n",
      "Accuracy: 0.85\n",
      "[[17184     0     0     0     0     0     0     0     0     0   796]\n",
      " [    0 17118     0     0    87     0     0     0     0     0     0]\n",
      " [    0     0 17996     0     0     0     0     0     0     0     0]\n",
      " [    0     0 18039     0     0     0     0     0     0     0     0]\n",
      " [    0     0     0     0 17801     0     0     0     0     0     0]\n",
      " [    0     0     0     0     0 17831     0     0     0     0     0]\n",
      " [    0     0     1     0     0     0 18031     0     0     0     0]\n",
      " [    0     0     0     0     0     0     0 17890   304     0     0]\n",
      " [    0     0     0     0     0     0     0     0 17948     0     0]\n",
      " [ 5336     0     0     0     0     0     0     0     0  8230  4486]\n",
      " [  398     0     0     0     0     0     0     0     0     0 17789]]\n"
     ]
    }
   ],
   "source": [
    "model_test_acc(clf1)\n",
    "model_test_acc(clf3)"
   ]
  },
  {
   "cell_type": "code",
   "execution_count": null,
   "metadata": {},
   "outputs": [],
   "source": []
  }
 ],
 "metadata": {
  "kernelspec": {
   "display_name": "Python 3",
   "language": "python",
   "name": "python3"
  },
  "language_info": {
   "codemirror_mode": {
    "name": "ipython",
    "version": 3
   },
   "file_extension": ".py",
   "mimetype": "text/x-python",
   "name": "python",
   "nbconvert_exporter": "python",
   "pygments_lexer": "ipython3",
   "version": "3.7.3"
  }
 },
 "nbformat": 4,
 "nbformat_minor": 2
}
